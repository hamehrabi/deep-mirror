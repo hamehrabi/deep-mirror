{
  "nbformat": 4,
  "nbformat_minor": 0,
  "metadata": {
    "colab": {
      "provenance": []
    },
    "kernelspec": {
      "name": "python3",
      "display_name": "Python 3"
    },
    "language_info": {
      "name": "python"
    },
    "accelerator": "GPU",
    "gpuClass": "standard",
    "widgets": {
      "application/vnd.jupyter.widget-state+json": {
        "60638901d6364dbeb81471ef7dda5d5d": {
          "model_module": "@jupyter-widgets/controls",
          "model_name": "HBoxModel",
          "model_module_version": "1.5.0",
          "state": {
            "_dom_classes": [],
            "_model_module": "@jupyter-widgets/controls",
            "_model_module_version": "1.5.0",
            "_model_name": "HBoxModel",
            "_view_count": null,
            "_view_module": "@jupyter-widgets/controls",
            "_view_module_version": "1.5.0",
            "_view_name": "HBoxView",
            "box_style": "",
            "children": [
              "IPY_MODEL_48e0524def75481e97c3d81d895ddbbe",
              "IPY_MODEL_df3c9330a5a14a469c99352a9d479747",
              "IPY_MODEL_4a68e611e47042e0a85ce7c5490442cd"
            ],
            "layout": "IPY_MODEL_2f3043d6d22f47658fb0f5a2220d3c87"
          }
        },
        "48e0524def75481e97c3d81d895ddbbe": {
          "model_module": "@jupyter-widgets/controls",
          "model_name": "HTMLModel",
          "model_module_version": "1.5.0",
          "state": {
            "_dom_classes": [],
            "_model_module": "@jupyter-widgets/controls",
            "_model_module_version": "1.5.0",
            "_model_name": "HTMLModel",
            "_view_count": null,
            "_view_module": "@jupyter-widgets/controls",
            "_view_module_version": "1.5.0",
            "_view_name": "HTMLView",
            "description": "",
            "description_tooltip": null,
            "layout": "IPY_MODEL_bcce58bd55334941abb080e7824196f6",
            "placeholder": "​",
            "style": "IPY_MODEL_31cddbdbf37145029dba2b773539aafc",
            "value": "100%"
          }
        },
        "df3c9330a5a14a469c99352a9d479747": {
          "model_module": "@jupyter-widgets/controls",
          "model_name": "FloatProgressModel",
          "model_module_version": "1.5.0",
          "state": {
            "_dom_classes": [],
            "_model_module": "@jupyter-widgets/controls",
            "_model_module_version": "1.5.0",
            "_model_name": "FloatProgressModel",
            "_view_count": null,
            "_view_module": "@jupyter-widgets/controls",
            "_view_module_version": "1.5.0",
            "_view_name": "ProgressView",
            "bar_style": "success",
            "description": "",
            "description_tooltip": null,
            "layout": "IPY_MODEL_3a395a63bdc845da883f7e7f74d432ae",
            "max": 75,
            "min": 0,
            "orientation": "horizontal",
            "style": "IPY_MODEL_f8ecbdeeb2c24672bf4e3765be3e101f",
            "value": 75
          }
        },
        "4a68e611e47042e0a85ce7c5490442cd": {
          "model_module": "@jupyter-widgets/controls",
          "model_name": "HTMLModel",
          "model_module_version": "1.5.0",
          "state": {
            "_dom_classes": [],
            "_model_module": "@jupyter-widgets/controls",
            "_model_module_version": "1.5.0",
            "_model_name": "HTMLModel",
            "_view_count": null,
            "_view_module": "@jupyter-widgets/controls",
            "_view_module_version": "1.5.0",
            "_view_name": "HTMLView",
            "description": "",
            "description_tooltip": null,
            "layout": "IPY_MODEL_5faab201117e4598a9d578f9a17455b8",
            "placeholder": "​",
            "style": "IPY_MODEL_b85b7903c06a471e8495bbe114106a34",
            "value": " 75/75 [00:18&lt;00:00,  4.03it/s]"
          }
        },
        "2f3043d6d22f47658fb0f5a2220d3c87": {
          "model_module": "@jupyter-widgets/base",
          "model_name": "LayoutModel",
          "model_module_version": "1.2.0",
          "state": {
            "_model_module": "@jupyter-widgets/base",
            "_model_module_version": "1.2.0",
            "_model_name": "LayoutModel",
            "_view_count": null,
            "_view_module": "@jupyter-widgets/base",
            "_view_module_version": "1.2.0",
            "_view_name": "LayoutView",
            "align_content": null,
            "align_items": null,
            "align_self": null,
            "border": null,
            "bottom": null,
            "display": null,
            "flex": null,
            "flex_flow": null,
            "grid_area": null,
            "grid_auto_columns": null,
            "grid_auto_flow": null,
            "grid_auto_rows": null,
            "grid_column": null,
            "grid_gap": null,
            "grid_row": null,
            "grid_template_areas": null,
            "grid_template_columns": null,
            "grid_template_rows": null,
            "height": null,
            "justify_content": null,
            "justify_items": null,
            "left": null,
            "margin": null,
            "max_height": null,
            "max_width": null,
            "min_height": null,
            "min_width": null,
            "object_fit": null,
            "object_position": null,
            "order": null,
            "overflow": null,
            "overflow_x": null,
            "overflow_y": null,
            "padding": null,
            "right": null,
            "top": null,
            "visibility": null,
            "width": null
          }
        },
        "bcce58bd55334941abb080e7824196f6": {
          "model_module": "@jupyter-widgets/base",
          "model_name": "LayoutModel",
          "model_module_version": "1.2.0",
          "state": {
            "_model_module": "@jupyter-widgets/base",
            "_model_module_version": "1.2.0",
            "_model_name": "LayoutModel",
            "_view_count": null,
            "_view_module": "@jupyter-widgets/base",
            "_view_module_version": "1.2.0",
            "_view_name": "LayoutView",
            "align_content": null,
            "align_items": null,
            "align_self": null,
            "border": null,
            "bottom": null,
            "display": null,
            "flex": null,
            "flex_flow": null,
            "grid_area": null,
            "grid_auto_columns": null,
            "grid_auto_flow": null,
            "grid_auto_rows": null,
            "grid_column": null,
            "grid_gap": null,
            "grid_row": null,
            "grid_template_areas": null,
            "grid_template_columns": null,
            "grid_template_rows": null,
            "height": null,
            "justify_content": null,
            "justify_items": null,
            "left": null,
            "margin": null,
            "max_height": null,
            "max_width": null,
            "min_height": null,
            "min_width": null,
            "object_fit": null,
            "object_position": null,
            "order": null,
            "overflow": null,
            "overflow_x": null,
            "overflow_y": null,
            "padding": null,
            "right": null,
            "top": null,
            "visibility": null,
            "width": null
          }
        },
        "31cddbdbf37145029dba2b773539aafc": {
          "model_module": "@jupyter-widgets/controls",
          "model_name": "DescriptionStyleModel",
          "model_module_version": "1.5.0",
          "state": {
            "_model_module": "@jupyter-widgets/controls",
            "_model_module_version": "1.5.0",
            "_model_name": "DescriptionStyleModel",
            "_view_count": null,
            "_view_module": "@jupyter-widgets/base",
            "_view_module_version": "1.2.0",
            "_view_name": "StyleView",
            "description_width": ""
          }
        },
        "3a395a63bdc845da883f7e7f74d432ae": {
          "model_module": "@jupyter-widgets/base",
          "model_name": "LayoutModel",
          "model_module_version": "1.2.0",
          "state": {
            "_model_module": "@jupyter-widgets/base",
            "_model_module_version": "1.2.0",
            "_model_name": "LayoutModel",
            "_view_count": null,
            "_view_module": "@jupyter-widgets/base",
            "_view_module_version": "1.2.0",
            "_view_name": "LayoutView",
            "align_content": null,
            "align_items": null,
            "align_self": null,
            "border": null,
            "bottom": null,
            "display": null,
            "flex": null,
            "flex_flow": null,
            "grid_area": null,
            "grid_auto_columns": null,
            "grid_auto_flow": null,
            "grid_auto_rows": null,
            "grid_column": null,
            "grid_gap": null,
            "grid_row": null,
            "grid_template_areas": null,
            "grid_template_columns": null,
            "grid_template_rows": null,
            "height": null,
            "justify_content": null,
            "justify_items": null,
            "left": null,
            "margin": null,
            "max_height": null,
            "max_width": null,
            "min_height": null,
            "min_width": null,
            "object_fit": null,
            "object_position": null,
            "order": null,
            "overflow": null,
            "overflow_x": null,
            "overflow_y": null,
            "padding": null,
            "right": null,
            "top": null,
            "visibility": null,
            "width": null
          }
        },
        "f8ecbdeeb2c24672bf4e3765be3e101f": {
          "model_module": "@jupyter-widgets/controls",
          "model_name": "ProgressStyleModel",
          "model_module_version": "1.5.0",
          "state": {
            "_model_module": "@jupyter-widgets/controls",
            "_model_module_version": "1.5.0",
            "_model_name": "ProgressStyleModel",
            "_view_count": null,
            "_view_module": "@jupyter-widgets/base",
            "_view_module_version": "1.2.0",
            "_view_name": "StyleView",
            "bar_color": null,
            "description_width": ""
          }
        },
        "5faab201117e4598a9d578f9a17455b8": {
          "model_module": "@jupyter-widgets/base",
          "model_name": "LayoutModel",
          "model_module_version": "1.2.0",
          "state": {
            "_model_module": "@jupyter-widgets/base",
            "_model_module_version": "1.2.0",
            "_model_name": "LayoutModel",
            "_view_count": null,
            "_view_module": "@jupyter-widgets/base",
            "_view_module_version": "1.2.0",
            "_view_name": "LayoutView",
            "align_content": null,
            "align_items": null,
            "align_self": null,
            "border": null,
            "bottom": null,
            "display": null,
            "flex": null,
            "flex_flow": null,
            "grid_area": null,
            "grid_auto_columns": null,
            "grid_auto_flow": null,
            "grid_auto_rows": null,
            "grid_column": null,
            "grid_gap": null,
            "grid_row": null,
            "grid_template_areas": null,
            "grid_template_columns": null,
            "grid_template_rows": null,
            "height": null,
            "justify_content": null,
            "justify_items": null,
            "left": null,
            "margin": null,
            "max_height": null,
            "max_width": null,
            "min_height": null,
            "min_width": null,
            "object_fit": null,
            "object_position": null,
            "order": null,
            "overflow": null,
            "overflow_x": null,
            "overflow_y": null,
            "padding": null,
            "right": null,
            "top": null,
            "visibility": null,
            "width": null
          }
        },
        "b85b7903c06a471e8495bbe114106a34": {
          "model_module": "@jupyter-widgets/controls",
          "model_name": "DescriptionStyleModel",
          "model_module_version": "1.5.0",
          "state": {
            "_model_module": "@jupyter-widgets/controls",
            "_model_module_version": "1.5.0",
            "_model_name": "DescriptionStyleModel",
            "_view_count": null,
            "_view_module": "@jupyter-widgets/base",
            "_view_module_version": "1.2.0",
            "_view_name": "StyleView",
            "description_width": ""
          }
        }
      }
    }
  },
  "cells": [
    {
      "cell_type": "markdown",
      "source": [
        "#PAMPA Permeability, NCATS\n",
        "## End-to-end binary Classification via supervised graph neural networks (GNN) using PyG\n",
        "Based on the SMILES string of a compound, using **GNN algorithms**, this tutorial explains how to predict whether it will have high permeability (1) or low-to-moderate permeability (0) in the **PAMPA assay** using PyG framework. \n",
        "\n",
        "There are different frameworks to model GNN algorithms including PyG, DGL, DeepPurpose, Tf-gnn, etc. In this tutorial, we will use **PyG** as one of the best GNN frameworks in this field. \n",
        "\n",
        "**Dataset Description:** PAMPA (parallel artificial membrane permeability assay) is a commonly employed assay to evaluate drug permeability across the cellular membrane. PAMPA is a non-cell-based, low-cost and high-throughput alternative to cellular models. Although PAMPA does not model active and efflux transporters, it still provides permeability values that are useful for absorption prediction because the majority of drugs are absorbed by passive diffusion through the membrane. \n",
        "\n",
        "**References:**\n",
        "[1] Siramshetty, V.B., Shah, P., et al. “Validating ADME QSAR Models Using Marketed Drugs.” SLAS Discovery 2021 Dec;26(10):1326-1336. doi: 10.1177/24725552211017520.\n",
        "\n",
        "**Dataset License:** Not Specified. CC BY 4.0.\n",
        "\n",
        "**Dataset Statistics:** NCATS set - 2035 compounds; Approved drugs set - 142 drugs. \n",
        "\n",
        "###**This is an end-to-end tutorial that consists of nine steps:**\n",
        "\n",
        "1.   **Step 1:** Import Packages\n",
        "2.   **Step 2:** Import dataset\n",
        "3.   **Step 3:** Split dataset\n",
        "4.   **Step 4:** Data preprocessing: Converting SMILES string into a molecular graph for Pytorch Geometric\n",
        "5.   **Step 5:** Data visualisation\n",
        "6.   **Step 6:** Building a GNN (GCN) model:Training a Graph Neural Network (GNN)\n",
        "7.   **Step 7:** Create a training and testing loop to fit the model\n",
        "8.   **Step 8:** Plot the loss&accuracy curves of Model\n",
        "9.   **Step 9:** Evaluate the model on the whole Test set\n",
        "\n",
        "\n",
        "**Note:** This file has been designed to run on Colab + GPU\n"
      ],
      "metadata": {
        "id": "MZnhrjkB2nxh"
      }
    },
    {
      "cell_type": "markdown",
      "source": [
        "##Step 0: Install libraries"
      ],
      "metadata": {
        "id": "Nxydt8NaNM4x"
      }
    },
    {
      "cell_type": "code",
      "execution_count": null,
      "metadata": {
        "id": "q6XiOEfeKPJC"
      },
      "outputs": [],
      "source": [
        "import os\n",
        "import torch\n",
        "os.environ['TORCH'] = torch.__version__\n",
        "print(torch.__version__)\n",
        "\n",
        "!pip install -q torch-scatter -f https://data.pyg.org/whl/torch-${TORCH}.html\n",
        "!pip install -q torch-sparse -f https://data.pyg.org/whl/torch-${TORCH}.html\n",
        "!pip install -q git+https://github.com/pyg-team/pytorch_geometric.git\n",
        "!pip install networkx[default]\n",
        "!pip install scipy\n",
        "\n",
        "# Let's calculuate the accuracy\n",
        "!pip -q install torchmetrics # colab doesn't come with torchmetrics\n",
        "\n",
        "# Install rdkit\n",
        "!pip install rdkit\n",
        "\n",
        "# Install Chemical libraries (TDC dataset, deepchem, PubChemPy)\n",
        "!pip install PyTDC\n",
        "!pip install --pre deepchem\n",
        "!pip install DeepPurpose\n",
        "!pip install PubChemPy\n",
        "!pip install git+https://github.com/samoturk/mol2vec\n",
        "!pip install 'mordred[full]'"
      ]
    },
    {
      "cell_type": "markdown",
      "source": [
        "##Step 1: Import Packages"
      ],
      "metadata": {
        "id": "B-brBlSANOS_"
      }
    },
    {
      "cell_type": "code",
      "source": [
        "# Import necessary libraries\n",
        "# Pytorch and Pytorch Geometric\n",
        "import torch\n",
        "import torch_geometric\n",
        "from torch import nn\n",
        "import torch.nn.functional as F\n",
        "from torch_geometric.data import Data\n",
        "#from torch.utils.data import DataLoader\n",
        "from torch_geometric.data import DataLoader #use for GNN problems\n",
        "from torch_geometric.transforms import NormalizeFeatures\n",
        "from torchmetrics import Accuracy # colab doesn't come with torchmetrics\n",
        "from torch_geometric.nn.conv.rgat_conv import ReLU\n",
        "from torch_geometric.nn import GCNConv\n",
        "\n",
        "# Import general libraries\n",
        "import sys\n",
        "import os.path as osp\n",
        "import numpy as np\n",
        "import pandas as pd\n",
        "import matplotlib.pyplot as plt\n",
        "from sklearn.manifold import TSNE\n",
        "import networkx as nx\n",
        "\n",
        "# RDkit\n",
        "from rdkit import Chem\n",
        "from rdkit.Chem.rdmolops import GetAdjacencyMatrix\n",
        "\n",
        "# Imoprt Chemical libraries and dataset\n",
        "from tdc.single_pred import ADME\n",
        "import deepchem\n",
        "from mol2vec import features\n",
        "from mol2vec import helpers\n",
        "import mordred"
      ],
      "metadata": {
        "id": "32XHaQwCLZZx"
      },
      "execution_count": 148,
      "outputs": []
    },
    {
      "cell_type": "markdown",
      "source": [
        "### 1.1  Setup device-agnostic code"
      ],
      "metadata": {
        "id": "QtlFoS69Nzdu"
      }
    },
    {
      "cell_type": "code",
      "source": [
        "# Setup device-agnostic code\n",
        "device = \"cuda\" if torch.cuda.is_available() else \"cpu\"\n",
        "device"
      ],
      "metadata": {
        "id": "EB7E7f4bN2Ht",
        "outputId": "d9dbe570-6cbd-453d-a278-8b3360d89ac5",
        "colab": {
          "base_uri": "https://localhost:8080/",
          "height": 35
        }
      },
      "execution_count": 149,
      "outputs": [
        {
          "output_type": "execute_result",
          "data": {
            "text/plain": [
              "'cuda'"
            ],
            "application/vnd.google.colaboratory.intrinsic+json": {
              "type": "string"
            }
          },
          "metadata": {},
          "execution_count": 149
        }
      ]
    },
    {
      "cell_type": "markdown",
      "source": [
        "## Step 2: Import [dataset](https://tdcommons.ai/single_pred_tasks/adme#pampa-permeability-ncats)"
      ],
      "metadata": {
        "id": "zbrvwNkkNWD-"
      }
    },
    {
      "cell_type": "code",
      "source": [
        "# import dataset\n",
        "from tdc.single_pred import ADME\n",
        "data = ADME(name = 'PAMPA_NCATS')\n",
        "split = data.get_split()"
      ],
      "metadata": {
        "id": "CrSMDyyLLZWy",
        "outputId": "c108db85-cccf-4068-8cf6-056238995350",
        "colab": {
          "base_uri": "https://localhost:8080/"
        }
      },
      "execution_count": 150,
      "outputs": [
        {
          "output_type": "stream",
          "name": "stderr",
          "text": [
            "Found local copy...\n",
            "Loading...\n",
            "Done!\n"
          ]
        }
      ]
    },
    {
      "cell_type": "markdown",
      "source": [
        "## Step 3: Split dataset"
      ],
      "metadata": {
        "id": "UeX12tAqOGM4"
      }
    },
    {
      "cell_type": "code",
      "source": [
        "train = split['train']\n",
        "valid = split['valid']\n",
        "test = split['test']\n",
        "\n",
        "#====================================\n",
        "X_train = train['Drug'].to_numpy()\n",
        "y_train = train['Y'].to_numpy()\n",
        "\n",
        "X_valid = valid['Drug'].to_numpy()\n",
        "y_valid = valid['Y'].to_numpy()\n",
        "\n",
        "X_test = test['Drug'].to_numpy()\n",
        "y_test = test['Y'].to_numpy()\n",
        "\n",
        "#====================================\n",
        "print(f\"X_train: {X_train[0:1]}, X_train shape:{X_train.shape}\")\n",
        "print(f\"y_train: {y_train[0:1]}, y_train shape:{y_train.shape}\")\n",
        "print()\n",
        "print(f\"X_valid: {X_valid[0:1]}, X_valid shape:{X_valid.shape}\")\n",
        "print(f\"y_valid: {y_valid[0:1]}, y_valid shape:{y_valid.shape}\")\n",
        "print()\n",
        "print(f\"X_test: {X_test[0:1]}, X_test shape:{X_test.shape}\")\n",
        "print(f\"y_test: {y_test[0:1]}, y_test shape:{y_test.shape}\")"
      ],
      "metadata": {
        "id": "2O7DKXvHLZTx",
        "outputId": "531c5aa4-c838-452a-8e34-f67476bcd42e",
        "colab": {
          "base_uri": "https://localhost:8080/"
        }
      },
      "execution_count": 151,
      "outputs": [
        {
          "output_type": "stream",
          "name": "stdout",
          "text": [
            "X_train: ['COC1=C(C=C(C=C1)CCN2C(=CC(=O)NC2=S)N)OC'], X_train shape:(1424,)\n",
            "y_train: [0], y_train shape:(1424,)\n",
            "\n",
            "X_valid: ['CC1=C(C=C(C=C1)C2=NC3=CC=CC=C3C(=C2)C(=O)NC4=CC=C(C=C4)S(=O)(=O)NCC5=NC=CS5)C'], X_valid shape:(203,)\n",
            "y_valid: [0], y_valid shape:(203,)\n",
            "\n",
            "X_test: ['C[C@]12C[C@H]([C@@H]([C@@]1(CC(=O)[C@@]3([C@H]2CC=C4[C@H]3C=C(C(=O)C4(C)C)O)C)C)[C@](C)(C(=O)/C=C\\\\C(C)(C)O)O)O'], X_test shape:(407,)\n",
            "y_test: [1], y_test shape:(407,)\n"
          ]
        }
      ]
    },
    {
      "cell_type": "code",
      "source": [
        "train.head()"
      ],
      "metadata": {
        "id": "_7orBoznLZOK",
        "outputId": "4cef1387-e9a6-48c5-90e9-219a839f633f",
        "colab": {
          "base_uri": "https://localhost:8080/",
          "height": 206
        }
      },
      "execution_count": 152,
      "outputs": [
        {
          "output_type": "execute_result",
          "data": {
            "text/plain": [
              "   Drug_ID                                               Drug  Y\n",
              "0  1259573            COC1=C(C=C(C=C1)CCN2C(=CC(=O)NC2=S)N)OC  0\n",
              "1  1275864  COC1=C(C=C(C=C1)Cl)C(=O)NC2=CC=C(C=C2)NC(=O)C3...  1\n",
              "2  2030130  CN1C2=CC=CC=C2C(=O)C3=C1N=C(N(C3=O)C4=CC=CC=C4...  1\n",
              "3  4422695  CC1=C(C=C(C=C1)NS(=O)(=O)C2=CC=CC(=C2)C(=O)O)S...  1\n",
              "4  1131802  COC1=CC(=CC(=C1O)OC)C2=NC(=C(N2)C3=CC=CS3)C4=C...  1"
            ],
            "text/html": [
              "\n",
              "  <div id=\"df-d231bc75-f49c-4d65-ada6-74442221789f\">\n",
              "    <div class=\"colab-df-container\">\n",
              "      <div>\n",
              "<style scoped>\n",
              "    .dataframe tbody tr th:only-of-type {\n",
              "        vertical-align: middle;\n",
              "    }\n",
              "\n",
              "    .dataframe tbody tr th {\n",
              "        vertical-align: top;\n",
              "    }\n",
              "\n",
              "    .dataframe thead th {\n",
              "        text-align: right;\n",
              "    }\n",
              "</style>\n",
              "<table border=\"1\" class=\"dataframe\">\n",
              "  <thead>\n",
              "    <tr style=\"text-align: right;\">\n",
              "      <th></th>\n",
              "      <th>Drug_ID</th>\n",
              "      <th>Drug</th>\n",
              "      <th>Y</th>\n",
              "    </tr>\n",
              "  </thead>\n",
              "  <tbody>\n",
              "    <tr>\n",
              "      <th>0</th>\n",
              "      <td>1259573</td>\n",
              "      <td>COC1=C(C=C(C=C1)CCN2C(=CC(=O)NC2=S)N)OC</td>\n",
              "      <td>0</td>\n",
              "    </tr>\n",
              "    <tr>\n",
              "      <th>1</th>\n",
              "      <td>1275864</td>\n",
              "      <td>COC1=C(C=C(C=C1)Cl)C(=O)NC2=CC=C(C=C2)NC(=O)C3...</td>\n",
              "      <td>1</td>\n",
              "    </tr>\n",
              "    <tr>\n",
              "      <th>2</th>\n",
              "      <td>2030130</td>\n",
              "      <td>CN1C2=CC=CC=C2C(=O)C3=C1N=C(N(C3=O)C4=CC=CC=C4...</td>\n",
              "      <td>1</td>\n",
              "    </tr>\n",
              "    <tr>\n",
              "      <th>3</th>\n",
              "      <td>4422695</td>\n",
              "      <td>CC1=C(C=C(C=C1)NS(=O)(=O)C2=CC=CC(=C2)C(=O)O)S...</td>\n",
              "      <td>1</td>\n",
              "    </tr>\n",
              "    <tr>\n",
              "      <th>4</th>\n",
              "      <td>1131802</td>\n",
              "      <td>COC1=CC(=CC(=C1O)OC)C2=NC(=C(N2)C3=CC=CS3)C4=C...</td>\n",
              "      <td>1</td>\n",
              "    </tr>\n",
              "  </tbody>\n",
              "</table>\n",
              "</div>\n",
              "      <button class=\"colab-df-convert\" onclick=\"convertToInteractive('df-d231bc75-f49c-4d65-ada6-74442221789f')\"\n",
              "              title=\"Convert this dataframe to an interactive table.\"\n",
              "              style=\"display:none;\">\n",
              "        \n",
              "  <svg xmlns=\"http://www.w3.org/2000/svg\" height=\"24px\"viewBox=\"0 0 24 24\"\n",
              "       width=\"24px\">\n",
              "    <path d=\"M0 0h24v24H0V0z\" fill=\"none\"/>\n",
              "    <path d=\"M18.56 5.44l.94 2.06.94-2.06 2.06-.94-2.06-.94-.94-2.06-.94 2.06-2.06.94zm-11 1L8.5 8.5l.94-2.06 2.06-.94-2.06-.94L8.5 2.5l-.94 2.06-2.06.94zm10 10l.94 2.06.94-2.06 2.06-.94-2.06-.94-.94-2.06-.94 2.06-2.06.94z\"/><path d=\"M17.41 7.96l-1.37-1.37c-.4-.4-.92-.59-1.43-.59-.52 0-1.04.2-1.43.59L10.3 9.45l-7.72 7.72c-.78.78-.78 2.05 0 2.83L4 21.41c.39.39.9.59 1.41.59.51 0 1.02-.2 1.41-.59l7.78-7.78 2.81-2.81c.8-.78.8-2.07 0-2.86zM5.41 20L4 18.59l7.72-7.72 1.47 1.35L5.41 20z\"/>\n",
              "  </svg>\n",
              "      </button>\n",
              "      \n",
              "  <style>\n",
              "    .colab-df-container {\n",
              "      display:flex;\n",
              "      flex-wrap:wrap;\n",
              "      gap: 12px;\n",
              "    }\n",
              "\n",
              "    .colab-df-convert {\n",
              "      background-color: #E8F0FE;\n",
              "      border: none;\n",
              "      border-radius: 50%;\n",
              "      cursor: pointer;\n",
              "      display: none;\n",
              "      fill: #1967D2;\n",
              "      height: 32px;\n",
              "      padding: 0 0 0 0;\n",
              "      width: 32px;\n",
              "    }\n",
              "\n",
              "    .colab-df-convert:hover {\n",
              "      background-color: #E2EBFA;\n",
              "      box-shadow: 0px 1px 2px rgba(60, 64, 67, 0.3), 0px 1px 3px 1px rgba(60, 64, 67, 0.15);\n",
              "      fill: #174EA6;\n",
              "    }\n",
              "\n",
              "    [theme=dark] .colab-df-convert {\n",
              "      background-color: #3B4455;\n",
              "      fill: #D2E3FC;\n",
              "    }\n",
              "\n",
              "    [theme=dark] .colab-df-convert:hover {\n",
              "      background-color: #434B5C;\n",
              "      box-shadow: 0px 1px 3px 1px rgba(0, 0, 0, 0.15);\n",
              "      filter: drop-shadow(0px 1px 2px rgba(0, 0, 0, 0.3));\n",
              "      fill: #FFFFFF;\n",
              "    }\n",
              "  </style>\n",
              "\n",
              "      <script>\n",
              "        const buttonEl =\n",
              "          document.querySelector('#df-d231bc75-f49c-4d65-ada6-74442221789f button.colab-df-convert');\n",
              "        buttonEl.style.display =\n",
              "          google.colab.kernel.accessAllowed ? 'block' : 'none';\n",
              "\n",
              "        async function convertToInteractive(key) {\n",
              "          const element = document.querySelector('#df-d231bc75-f49c-4d65-ada6-74442221789f');\n",
              "          const dataTable =\n",
              "            await google.colab.kernel.invokeFunction('convertToInteractive',\n",
              "                                                     [key], {});\n",
              "          if (!dataTable) return;\n",
              "\n",
              "          const docLinkHtml = 'Like what you see? Visit the ' +\n",
              "            '<a target=\"_blank\" href=https://colab.research.google.com/notebooks/data_table.ipynb>data table notebook</a>'\n",
              "            + ' to learn more about interactive tables.';\n",
              "          element.innerHTML = '';\n",
              "          dataTable['output_type'] = 'display_data';\n",
              "          await google.colab.output.renderOutput(dataTable, element);\n",
              "          const docLink = document.createElement('div');\n",
              "          docLink.innerHTML = docLinkHtml;\n",
              "          element.appendChild(docLink);\n",
              "        }\n",
              "      </script>\n",
              "    </div>\n",
              "  </div>\n",
              "  "
            ]
          },
          "metadata": {},
          "execution_count": 152
        }
      ]
    },
    {
      "cell_type": "markdown",
      "source": [
        "## Step 4: [Data preprocessing](https://www.blopig.com/blog/2022/02/how-to-turn-a-smiles-string-into-a-molecular-graph-for-pytorch-geometric/): Converting SMILES string into a molecular graph for Pytorch Geometric\n",
        "* 1. Atom Featurisation\n",
        "* 2. Bond Featurisation\n",
        "* 3. Generating labeled Pytorch Geometric Graph Objects\n",
        "* 4. Data prepration\n",
        "\n"
      ],
      "metadata": {
        "id": "kHSwZ7jqRKO5"
      }
    },
    {
      "cell_type": "markdown",
      "source": [
        "### 4.1 Atom Featurisation\n",
        "\n",
        "We start by defining an auxiliary function which transforms a value x into a one-hot encoding based on a list of permitted values for x:"
      ],
      "metadata": {
        "id": "CSH6a3FmRsLX"
      }
    },
    {
      "cell_type": "markdown",
      "source": [
        "Auxiliary function"
      ],
      "metadata": {
        "id": "XJCnzzh3RqJz"
      }
    },
    {
      "cell_type": "code",
      "source": [
        "def one_hot_encoding(x, permitted_list):\n",
        "    \"\"\"\n",
        "    Maps input elements x which are not in the permitted list to the last element\n",
        "    of the permitted list.\n",
        "    \"\"\"\n",
        "\n",
        "    if x not in permitted_list:\n",
        "        x = permitted_list[-1]\n",
        "\n",
        "    binary_encoding = [int(boolean_value) for boolean_value in list(map(lambda s: x == s, permitted_list))]\n",
        "\n",
        "    return binary_encoding"
      ],
      "metadata": {
        "id": "ldBYiXUoLZLN"
      },
      "execution_count": 153,
      "outputs": []
    },
    {
      "cell_type": "markdown",
      "source": [
        "Now we use this auxiliary function to define the actual atom featurisation function:"
      ],
      "metadata": {
        "id": "C5YK7ltbLZIT"
      }
    },
    {
      "cell_type": "code",
      "source": [
        "def get_atom_features(atom, \n",
        "                      use_chirality = True, \n",
        "                      hydrogens_implicit = True):\n",
        "    \"\"\"\n",
        "    Takes an RDKit atom object as input and gives a 1d-numpy array of atom features as output.\n",
        "    \"\"\"\n",
        "\n",
        "    # define list of permitted atoms\n",
        "    \n",
        "    permitted_list_of_atoms =  ['C','N','O','S','F','Si','P','Cl','Br','Mg','Na','Ca','Fe','As','Al','I', 'B','V','K','Tl','Yb','Sb','Sn','Ag','Pd','Co','Se','Ti','Zn', 'Li','Ge','Cu','Au','Ni','Cd','In','Mn','Zr','Cr','Pt','Hg','Pb','Unknown']\n",
        "    \n",
        "    if hydrogens_implicit == False:\n",
        "        permitted_list_of_atoms = ['H'] + permitted_list_of_atoms\n",
        "    \n",
        "    # compute atom features\n",
        "    \n",
        "    atom_type_enc = one_hot_encoding(str(atom.GetSymbol()), permitted_list_of_atoms)\n",
        "    \n",
        "    n_heavy_neighbors_enc = one_hot_encoding(int(atom.GetDegree()), [0, 1, 2, 3, 4, \"MoreThanFour\"])\n",
        "    \n",
        "    formal_charge_enc = one_hot_encoding(int(atom.GetFormalCharge()), [-3, -2, -1, 0, 1, 2, 3, \"Extreme\"])\n",
        "    \n",
        "    hybridisation_type_enc = one_hot_encoding(str(atom.GetHybridization()), [\"S\", \"SP\", \"SP2\", \"SP3\", \"SP3D\", \"SP3D2\", \"OTHER\"])\n",
        "    \n",
        "    is_in_a_ring_enc = [int(atom.IsInRing())]\n",
        "    \n",
        "    is_aromatic_enc = [int(atom.GetIsAromatic())]\n",
        "    \n",
        "    atomic_mass_scaled = [float((atom.GetMass() - 10.812)/116.092)]\n",
        "    \n",
        "    vdw_radius_scaled = [float((Chem.GetPeriodicTable().GetRvdw(atom.GetAtomicNum()) - 1.5)/0.6)]\n",
        "    \n",
        "    covalent_radius_scaled = [float((Chem.GetPeriodicTable().GetRcovalent(atom.GetAtomicNum()) - 0.64)/0.76)]\n",
        "\n",
        "    atom_feature_vector = atom_type_enc + n_heavy_neighbors_enc + formal_charge_enc + hybridisation_type_enc + is_in_a_ring_enc + is_aromatic_enc + atomic_mass_scaled + vdw_radius_scaled + covalent_radius_scaled\n",
        "                                    \n",
        "    if use_chirality == True:\n",
        "        chirality_type_enc = one_hot_encoding(str(atom.GetChiralTag()), [\"CHI_UNSPECIFIED\", \"CHI_TETRAHEDRAL_CW\", \"CHI_TETRAHEDRAL_CCW\", \"CHI_OTHER\"])\n",
        "        atom_feature_vector += chirality_type_enc\n",
        "    \n",
        "    if hydrogens_implicit == True:\n",
        "        n_hydrogens_enc = one_hot_encoding(int(atom.GetTotalNumHs()), [0, 1, 2, 3, 4, \"MoreThanFour\"])\n",
        "        atom_feature_vector += n_hydrogens_enc\n",
        "\n",
        "    return np.array(atom_feature_vector)"
      ],
      "metadata": {
        "id": "dUrSxEomLZFC"
      },
      "execution_count": 154,
      "outputs": []
    },
    {
      "cell_type": "markdown",
      "source": [
        "### 4.2 Bond Featurisation\n",
        "Now that we have constructed a function to conveniently turn RDKit atom objects into feature vectors, we define an analogous function for RDKit bond objects:"
      ],
      "metadata": {
        "id": "gm64su9KSfOA"
      }
    },
    {
      "cell_type": "code",
      "source": [
        "def get_bond_features(bond, \n",
        "                      use_stereochemistry = True):\n",
        "    \"\"\"\n",
        "    Takes an RDKit bond object as input and gives a 1d-numpy array of bond features as output.\n",
        "    \"\"\"\n",
        "\n",
        "    permitted_list_of_bond_types = [Chem.rdchem.BondType.SINGLE, Chem.rdchem.BondType.DOUBLE, Chem.rdchem.BondType.TRIPLE, Chem.rdchem.BondType.AROMATIC]\n",
        "\n",
        "    bond_type_enc = one_hot_encoding(bond.GetBondType(), permitted_list_of_bond_types)\n",
        "    \n",
        "    bond_is_conj_enc = [int(bond.GetIsConjugated())]\n",
        "    \n",
        "    bond_is_in_ring_enc = [int(bond.IsInRing())]\n",
        "    \n",
        "    bond_feature_vector = bond_type_enc + bond_is_conj_enc + bond_is_in_ring_enc\n",
        "    \n",
        "    if use_stereochemistry == True:\n",
        "        stereo_type_enc = one_hot_encoding(str(bond.GetStereo()), [\"STEREOZ\", \"STEREOE\", \"STEREOANY\", \"STEREONONE\"])\n",
        "        bond_feature_vector += stereo_type_enc\n",
        "\n",
        "    return np.array(bond_feature_vector)"
      ],
      "metadata": {
        "id": "yrW2qYB5LZCJ"
      },
      "execution_count": 155,
      "outputs": []
    },
    {
      "cell_type": "markdown",
      "source": [
        "The bond features we consider in the above function are: bond type, whether the bond is conjugated, and whether the bond is in a ring. As an additional option, the user can specify whether to include E-Z stereochemical features around double bonds. "
      ],
      "metadata": {
        "id": "42VNk3JBSomG"
      }
    },
    {
      "cell_type": "markdown",
      "source": [
        "### 4.3 Generating labeled Pytorch Geometric Graph Objects\n",
        "Equipped with suitable functions to turn RDKit atom objects and RDKit bond objects into informative feature vectors, we swiftly move on to define a function which turns a list of SMILES strings and an associated list of labels (such as pKi values) into a list of Pytorch Geometric graph objects:"
      ],
      "metadata": {
        "id": "PzOc4BVdStP-"
      }
    },
    {
      "cell_type": "code",
      "source": [
        "def create_pytorch_geometric_graph_data_list_from_smiles_and_labels(x_smiles, y):\n",
        "    \"\"\"\n",
        "    Inputs:\n",
        "    \n",
        "    x_smiles = [smiles_1, smiles_2, ....] ... a list of SMILES strings\n",
        "    y = [y_1, y_2, ...] ... a list of numerial labels for the SMILES strings (such as associated pKi values)\n",
        "    \n",
        "    Outputs:\n",
        "    \n",
        "    data_list = [G_1, G_2, ...] ... a list of torch_geometric.data.Data objects which represent labeled molecular graphs that can readily be used for machine learning\n",
        "    \n",
        "    \"\"\"\n",
        "    \n",
        "    data_list = []\n",
        "    \n",
        "    for (smiles, y_val) in zip(x_smiles, y):\n",
        "        \n",
        "        # convert SMILES to RDKit mol object\n",
        "        mol = Chem.MolFromSmiles(smiles)\n",
        "\n",
        "        # get feature dimensions\n",
        "        n_nodes = mol.GetNumAtoms()\n",
        "        n_edges = 2*mol.GetNumBonds()\n",
        "        unrelated_smiles = \"O=O\"\n",
        "        unrelated_mol = Chem.MolFromSmiles(unrelated_smiles)\n",
        "        n_node_features = len(get_atom_features(unrelated_mol.GetAtomWithIdx(0)))\n",
        "        n_edge_features = len(get_bond_features(unrelated_mol.GetBondBetweenAtoms(0,1)))\n",
        "\n",
        "        # construct node feature matrix X of shape (n_nodes, n_node_features)\n",
        "        X = np.zeros((n_nodes, n_node_features))\n",
        "\n",
        "        for atom in mol.GetAtoms():\n",
        "            X[atom.GetIdx(), :] = get_atom_features(atom)\n",
        "            \n",
        "        X = torch.tensor(X, dtype = torch.float)\n",
        "        \n",
        "        # construct edge index array E of shape (2, n_edges)\n",
        "        (rows, cols) = np.nonzero(GetAdjacencyMatrix(mol))\n",
        "        torch_rows = torch.from_numpy(rows.astype(np.int64)).to(torch.long)\n",
        "        torch_cols = torch.from_numpy(cols.astype(np.int64)).to(torch.long)\n",
        "        E = torch.stack([torch_rows, torch_cols], dim = 0)\n",
        "        \n",
        "        # construct edge feature array EF of shape (n_edges, n_edge_features)\n",
        "        EF = np.zeros((n_edges, n_edge_features))\n",
        "        \n",
        "        for (k, (i,j)) in enumerate(zip(rows, cols)):\n",
        "            \n",
        "            EF[k] = get_bond_features(mol.GetBondBetweenAtoms(int(i),int(j)))\n",
        "        \n",
        "        EF = torch.tensor(EF, dtype = torch.float)\n",
        "        \n",
        "        # construct label tensor\n",
        "        y_tensor = torch.tensor(np.array([y_val]), dtype = torch.float)\n",
        "        \n",
        "        # construct Pytorch Geometric data object and append to data list + to(device) to make the data device agnostic.\n",
        "        data_list.append(Data(x = X.to(device), edge_index = E.to(device), edge_attr = EF.to(device), y = y_tensor.to(device)))\n",
        "\n",
        "    return data_list"
      ],
      "metadata": {
        "id": "WHrHLJWALY_R"
      },
      "execution_count": 156,
      "outputs": []
    },
    {
      "cell_type": "markdown",
      "source": [
        "### 4.4 Data processing\n",
        "**Note:** PyTorch Geometric DataLoader `torch_geometric.data.DataLoader` should be use in **GNN** problems  instead of the one provided by PyTorch `torch.utils.data.DataLoader`.\n"
      ],
      "metadata": {
        "id": "nPqO8cQjTCAe"
      }
    },
    {
      "cell_type": "code",
      "source": [
        "#Data prepration\n",
        "from torch_geometric.data import DataLoader\n",
        "\n",
        "#Hyperparameters:\n",
        "BATCH_SIZE = 64 #@param \n",
        "\n",
        "\n",
        "# Train dataset\n",
        "train_data_list = create_pytorch_geometric_graph_data_list_from_smiles_and_labels(X_train, y_train) # create list of molecular graph objects from list of SMILES x_smiles and list of labels y\n",
        "train_dataloader = DataLoader(dataset = train_data_list, batch_size = BATCH_SIZE, shuffle=True) # create dataloader for training\n",
        "  \n",
        "# Vildation dataset\n",
        "valid_data_list = create_pytorch_geometric_graph_data_list_from_smiles_and_labels(np.array(X_valid), np.array(y_valid))\n",
        "valid_dataloader = DataLoader(dataset = valid_data_list, batch_size = BATCH_SIZE, shuffle=False)\n",
        "\n",
        "# Test dataset\n",
        "test_data_list = create_pytorch_geometric_graph_data_list_from_smiles_and_labels(np.array(X_test), np.array(y_test))\n",
        "test_dataloader = DataLoader(dataset = test_data_list, batch_size = BATCH_SIZE, shuffle=False)"
      ],
      "metadata": {
        "id": "VfkIdOgrLY8O"
      },
      "execution_count": 157,
      "outputs": []
    },
    {
      "cell_type": "markdown",
      "source": [
        "Get the first graph object\n",
        "* ee a sample of transformed data"
      ],
      "metadata": {
        "id": "Hjby1G1ia96z"
      }
    },
    {
      "cell_type": "code",
      "source": [
        "dataset = train_data_list[0]\n",
        "print(dataset)\n",
        "print(dataset.x)\n",
        "print(dataset.y)"
      ],
      "metadata": {
        "id": "IkBMb-0_S2Ry",
        "outputId": "eed03ca5-e52e-411d-e052-ab5e463596a2",
        "colab": {
          "base_uri": "https://localhost:8080/"
        }
      },
      "execution_count": 158,
      "outputs": [
        {
          "output_type": "stream",
          "name": "stdout",
          "text": [
            "Data(x=[21, 79], edge_index=[2, 44], edge_attr=[44, 10], y=[1])\n",
            "tensor([[1., 0., 0.,  ..., 1., 0., 0.],\n",
            "        [0., 0., 1.,  ..., 0., 0., 0.],\n",
            "        [1., 0., 0.,  ..., 0., 0., 0.],\n",
            "        ...,\n",
            "        [0., 1., 0.,  ..., 0., 0., 0.],\n",
            "        [0., 0., 1.,  ..., 0., 0., 0.],\n",
            "        [1., 0., 0.,  ..., 1., 0., 0.]], device='cuda:0')\n",
            "tensor([0.], device='cuda:0')\n"
          ]
        }
      ]
    },
    {
      "cell_type": "markdown",
      "source": [
        "### 4.5 Dataset properties"
      ],
      "metadata": {
        "id": "jCHASv4VipS-"
      }
    },
    {
      "cell_type": "code",
      "source": [
        "print(f'Dataset: {dataset}:')\n",
        "print('====================')\n",
        "print(f'Number of graphs: {len(dataset)}')\n",
        "print(f'Number of features: {dataset.num_features}')\n",
        "print(f'Number of classes: {2}')\n",
        "\n",
        "print('=============================================================')\n",
        "\n",
        "# Gather some statistics about the first graph.\n",
        "print(f'Number of nodes: {dataset.num_nodes}')\n",
        "print(f'Number of edges: {dataset.num_edges}')\n",
        "print(f'Average node degree: {dataset.num_edges / dataset.num_nodes:.2f}')\n",
        "print(f'Has isolated nodes: {dataset.has_isolated_nodes()}')\n",
        "print(f'Has self-loops: {dataset.has_self_loops()}')\n",
        "print(f'Is undirected: {dataset.is_undirected()}')"
      ],
      "metadata": {
        "colab": {
          "base_uri": "https://localhost:8080/"
        },
        "id": "oK6HFKoOiqmM",
        "outputId": "31917ebe-c277-4de6-b1f4-5053131baf28"
      },
      "execution_count": 159,
      "outputs": [
        {
          "output_type": "stream",
          "name": "stdout",
          "text": [
            "Dataset: Data(x=[21, 79], edge_index=[2, 44], edge_attr=[44, 10], y=[1]):\n",
            "====================\n",
            "Number of graphs: 4\n",
            "Number of features: 79\n",
            "Number of classes: 2\n",
            "=============================================================\n",
            "Number of nodes: 21\n",
            "Number of edges: 44\n",
            "Average node degree: 2.10\n",
            "Has isolated nodes: False\n",
            "Has self-loops: False\n",
            "Is undirected: True\n"
          ]
        }
      ]
    },
    {
      "cell_type": "markdown",
      "source": [
        "### 4.6 Define dataset features and classes\n"
      ],
      "metadata": {
        "id": "QFHRctDVmqhr"
      }
    },
    {
      "cell_type": "code",
      "source": [
        "num_node_features = dataset.num_features\n",
        "num_classes = 2"
      ],
      "metadata": {
        "id": "2pBQX6WbmyZF"
      },
      "execution_count": 160,
      "outputs": []
    },
    {
      "cell_type": "markdown",
      "source": [
        "## Step 5: Data visualisation"
      ],
      "metadata": {
        "id": "JkH_kh7tndI2"
      }
    },
    {
      "cell_type": "code",
      "source": [
        "def visualize_graph(G, color):\n",
        "    plt.figure(figsize=(8,8))\n",
        "    plt.xticks([])\n",
        "    plt.yticks([])\n",
        "    nx.draw_networkx(G, pos=nx.spring_layout(G, seed=42), with_labels=False,\n",
        "                     node_color=color, cmap=\"Set2\")\n",
        "    plt.show()"
      ],
      "metadata": {
        "id": "9kT3TBwtnllb"
      },
      "execution_count": 161,
      "outputs": []
    },
    {
      "cell_type": "code",
      "source": [
        "from torch_geometric.utils import to_networkx\n",
        "\n",
        "undirected_graph = to_networkx(dataset)\n",
        "visualize_graph(undirected_graph, color=[i for i in range(len(dataset.x))])"
      ],
      "metadata": {
        "colab": {
          "base_uri": "https://localhost:8080/",
          "height": 466
        },
        "id": "RNVAYFg8nl_w",
        "outputId": "0f8f770f-27ea-439f-87ad-18b9cd509841"
      },
      "execution_count": 162,
      "outputs": [
        {
          "output_type": "display_data",
          "data": {
            "text/plain": [
              "<Figure size 576x576 with 1 Axes>"
            ],
            "image/png": "[encoded data removed]"
          },
          "metadata": {}
        }
      ]
    },
    {
      "cell_type": "markdown",
      "source": [
        "## Step 6: Building a GNN (GCN) model:Training a Graph Neural Network (GNN)"
      ],
      "metadata": {
        "id": "2e0DGMV_c2qH"
      }
    },
    {
      "cell_type": "code",
      "source": [
        "from torch.nn import Linear\n",
        "import torch.nn.functional as F\n",
        "from torch_geometric.nn import GCNConv, GraphConv, GATConv, SAGEConv\n",
        "from torch_geometric.nn import global_mean_pool\n",
        "\n",
        "\n",
        "class GCN(torch.nn.Module):\n",
        "  def __init__(self, hidden_channels):\n",
        "    super(GCN, self).__init__()\n",
        "    torch.manual_seed(12345)\n",
        "    self.conv1 = GraphConv(num_node_features, hidden_channels)\n",
        "    self.conv2 = GraphConv(hidden_channels, hidden_channels)\n",
        "    self.conv3 = GraphConv(hidden_channels, hidden_channels)\n",
        "    self.lin = Linear(hidden_channels, num_classes)\n",
        "\n",
        "  def forward(self, x, edge_index, batch):\n",
        "    # 1. Obtain node embeddings \n",
        "    x = self.conv1(x, edge_index)\n",
        "    x = x.relu()\n",
        "    x = self.conv2(x, edge_index)\n",
        "    x = x.relu()\n",
        "    x = self.conv3(x, edge_index)\n",
        "\n",
        "    # 2. Readout layer\n",
        "    x = global_mean_pool(x, batch)  # [batch_size, hidden_channels]\n",
        "\n",
        "    # 3. Apply a final classifier\n",
        "    x = F.dropout(x, p=0.5, training=self.training)\n",
        "    x = self.lin(x)\n",
        "        \n",
        "    return x"
      ],
      "metadata": {
        "id": "Mdd1xwWhS2LB"
      },
      "execution_count": 163,
      "outputs": []
    },
    {
      "cell_type": "markdown",
      "source": [
        "## Step 7: Create a training and testing loop to fit the model"
      ],
      "metadata": {
        "id": "lX69xRZen6Fl"
      }
    },
    {
      "cell_type": "markdown",
      "source": [
        "### 7.1 Claculate accuracy, F1_ score, ROC-AUC, PR-AUC"
      ],
      "metadata": {
        "id": "Iv_t3qfPn9AR"
      }
    },
    {
      "cell_type": "code",
      "source": [
        "from torchmetrics import Accuracy, F1Score, PrecisionRecallCurve, AUROC\n",
        "\n",
        "#@markdown Hyperparameters\n",
        "#Hyperparameters\n",
        "task = \"multiclass\" #@param ['binary', 'multiclass', 'multilabel']\n",
        "\n",
        "# Calculuate the accuracy\n",
        "acc_fn = Accuracy(task=task, num_classes=num_classes).to(device) # send accuracy function to device\n",
        "# Calculuate the F1Score\n",
        "f1_score = F1Score(task=task, num_classes=num_classes).to(device)\n",
        "# Calculuate the ROC-AUC\n",
        "roc_auc = AUROC(task=\"binary\", num_classes=num_classes)\n",
        "# Calculuate the PR-AUC\n",
        "pr_auc = PrecisionRecallCurve(task=\"binary\", num_classes=num_classes)"
      ],
      "metadata": {
        "id": "Q05vc7gsS2H9"
      },
      "execution_count": 164,
      "outputs": []
    },
    {
      "cell_type": "markdown",
      "source": [
        "### 7.2 Defining train_step function"
      ],
      "metadata": {
        "id": "MVNTO4FOoCGM"
      }
    },
    {
      "cell_type": "code",
      "source": [
        "# define a function for the train step\n",
        "def train_step(model: torch.nn.Module,\n",
        "               train_dataloader,\n",
        "               loss_fn: torch.nn.Module,\n",
        "               optimizer: torch.optim.Optimizer,\n",
        "               acc_fn):\n",
        "  ## Training\n",
        "  model.train()\n",
        "\n",
        "  for data in train_dataloader:  # Iterate in batches over the training dataset.\n",
        "    # Send data to target device\n",
        "    \n",
        "    x = data.x.to(device)\n",
        "    y = data.y.type(torch.LongTensor).to(device) # we should converting the type of \"targets=data.y\" to \"torch.LongTensor\" before storing the data into the GPU\n",
        "    edge_index = data.edge_index.to(device)\n",
        "    batch = data.batch.to(device)\n",
        "\n",
        "    # 1. Forward pass\n",
        "    out = model(x, edge_index, batch)  # Perform a single forward pass.\n",
        "    y_pred = torch.softmax(out, dim=1).argmax(dim=1)\n",
        "    \n",
        "    # 2. Calculate loss (per batch)\n",
        "    loss = loss_fn(out, y)  # Compute the loss.\n",
        "    acc = acc_fn(y_pred, y) # Compute the accuracy \n",
        "    \n",
        "    # 3. Optimizer zero grad\n",
        "    optimizer.zero_grad()  # Clear gradients.\n",
        "    \n",
        "    # 4. Loss backward\n",
        "    loss.backward()  # Derive gradients.\n",
        "    \n",
        "    # 5. Optimizer step\n",
        "    optimizer.step()  # Update parameters based on gradients.\n",
        "  \n",
        "  # We can return \"loss\" and \"acc\" rather than \"loss.cpu().detach().numpy()\" and \"acc.cpu().detach().numpy()\".\n",
        "  # But in order to create a loss/acc plot of our model we should convert them to the format of \"numpy\" and \"device=CPU\" using \".cpu().detach().numpy()\" code.\n",
        "  return loss.cpu().detach().numpy(), acc.cpu().detach().numpy() "
      ],
      "metadata": {
        "id": "w_Skbg-8S2Em"
      },
      "execution_count": 165,
      "outputs": []
    },
    {
      "cell_type": "markdown",
      "source": [
        "### 7.3 Defining validation_step function"
      ],
      "metadata": {
        "id": "pFqFj41_oKur"
      }
    },
    {
      "cell_type": "code",
      "source": [
        "def validation_step(model: torch.nn.Module,\n",
        "                    test_dataloader,\n",
        "                    loss_fn: torch.nn.Module,\n",
        "                    acc_fn):\n",
        "  \n",
        "  ### Validation\n",
        "  model.eval()\n",
        "\n",
        "  for data in test_dataloader:\n",
        "    # Send data to target device\n",
        "    x = data.x.to(device)\n",
        "    y = data.y.type(torch.LongTensor).to(device) # we should converting the type of \"targets=data.y\" to \"torch.LongTensor\" before storing the data into the GPU\n",
        "    edge_index = data.edge_index.to(device)\n",
        "    batch = data.batch.to(device)\n",
        "\n",
        "    with torch.inference_mode():\n",
        "      # 1. Forward pass\n",
        "      out = model(x, edge_index, batch)\n",
        "      val_pred = torch.softmax(out, dim=1).argmax(dim=1)\n",
        "\n",
        "      # 2. Caculate loss and acc\n",
        "      val_loss = loss_fn(out, y)\n",
        "      val_acc = acc_fn(val_pred, y)\n",
        "    #print(f\"Validation loss: {val_loss:.5f} | Validation accuracy: {val_acc:.2f}%\")\n",
        "\n",
        "  # We can return \"loss\" and \"acc\" rather than \"loss.cpu().detach().numpy()\" and \"acc.cpu().detach().numpy()\".\n",
        "  # But in order to create a loss/acc plot of our model we should convert them to the format of \"numpy\" and \"device=CPU\" using \".cpu().detach().numpy()\" code.\n",
        "  return val_loss.cpu().detach().numpy(), val_acc.cpu().detach().numpy()"
      ],
      "metadata": {
        "id": "6jBger1sTBbY"
      },
      "execution_count": 166,
      "outputs": []
    },
    {
      "cell_type": "markdown",
      "source": [
        "### 7.4 Define Train function including train steps and test steps "
      ],
      "metadata": {
        "id": "l4SXeN_LoSsz"
      }
    },
    {
      "cell_type": "code",
      "source": [
        "# Create a timer function to calculate time of training\n",
        "from timeit import default_timer as timer \n",
        "def print_train_time(start: float, end: float, device: torch.device = None):\n",
        "    \"\"\"Prints difference between start and end time.\n",
        "\n",
        "    Args:\n",
        "        start (float): Start time of computation (preferred in timeit format). \n",
        "        end (float): End time of computation.\n",
        "        device ([type], optional): Device that compute is running on. Defaults to None.\n",
        "\n",
        "    Returns:\n",
        "        float: time between start and end in seconds (higher is longer).\n",
        "    \"\"\"\n",
        "    total_time = end - start\n",
        "    print(f\"Train time on {device}: {total_time:.3f} seconds\")\n",
        "    return total_time"
      ],
      "metadata": {
        "id": "Hof14QCQTBY2"
      },
      "execution_count": 167,
      "outputs": []
    },
    {
      "cell_type": "code",
      "source": [
        "# Import tqdm for progress bar\n",
        "from tqdm.auto import tqdm\n",
        "\n",
        "# 1. Take in various parameters required for training and test steps\n",
        "def train(model: torch.nn.Module, \n",
        "          train_dataloader, \n",
        "          test_dataloader,\n",
        "          optimizer: torch.optim.Optimizer,\n",
        "          loss_fn: torch.nn.Module,\n",
        "          acc_fn,\n",
        "          epochs: int = 5):\n",
        "  \n",
        "  # 2. Create empty results dictionary\n",
        "  results = {\"train_loss\": [],\n",
        "        \"train_accuracy\": [],\n",
        "        \"validation_loss\": [],\n",
        "        \"validation_accuracy\": []\n",
        "  }\n",
        "    \n",
        "  for epoch in tqdm(range(epochs)):\n",
        "    loss, acc = train_step(model=model,\n",
        "                          train_dataloader=train_dataloader,\n",
        "                          loss_fn=loss_fn,\n",
        "                          optimizer=optimizer,\n",
        "                          acc_fn=acc_fn)\n",
        "    \n",
        "    val_loss, val_acc = validation_step(model=model,\n",
        "                                        test_dataloader=test_dataloader,\n",
        "                                        loss_fn=loss_fn,\n",
        "                                        acc_fn=acc_fn)\n",
        "        \n",
        "    #4. Print out what's happening\n",
        "    print(\n",
        "          f\"Epoch: {epoch+1} | \"\n",
        "          f\"train_loss: {loss:.4f} | \"\n",
        "          f\"train_accuracy: {acc*100:.2f}% | \"\n",
        "          f\"validation_loss: {val_loss:.4f} | \"\n",
        "          f\"validation_accuracy: {val_acc*100:.2f}%\"\n",
        "    )\n",
        "\n",
        "    # 5. Update results dictionary\n",
        "    results[\"train_loss\"].append(loss)\n",
        "    results[\"train_accuracy\"].append(acc)\n",
        "    results[\"validation_loss\"].append(val_loss)\n",
        "    results[\"validation_accuracy\"].append(val_acc)\n",
        "\n",
        "  #6. Return the filled results at the end of the epochs\n",
        "  return results"
      ],
      "metadata": {
        "id": "AwflsbE1TBWD"
      },
      "execution_count": 168,
      "outputs": []
    },
    {
      "cell_type": "markdown",
      "source": [
        "### 7.5 Train and Evaluate Model"
      ],
      "metadata": {
        "id": "Hl1w9H2Bo8ZC"
      }
    },
    {
      "cell_type": "code",
      "source": [
        "#@markdown Hyperparameters\n",
        "\n",
        "# Set random seeds\n",
        "torch.manual_seed(42) \n",
        "torch.cuda.manual_seed(42)\n",
        "\n",
        "# Hyperparameters\n",
        "NUM_EPOCHS = 75 #@param\n",
        "learning_rate = 0.001 #@param\n",
        "weight_decay = 5e-4 #@param\n",
        "HIDDEN_CHANNELS_GCN = 128 #@param\n",
        "\n",
        "# GNN (GCN) model: Recreate an instance of the mlp model: input channel is equal to \"dataset.num_features\", and the output_channel is equal to \"dataset.num_classes.\"\n",
        "model_GCN = GCN(hidden_channels=HIDDEN_CHANNELS_GCN).to(device)\n",
        "    \n",
        "# Setup loss function and optimizer\n",
        "loss_fn = nn.CrossEntropyLoss()\n",
        "optimizer = torch.optim.Adam(params=model_GCN.parameters(), lr=learning_rate, weight_decay=weight_decay)\n",
        "\n",
        "# Start the timer\n",
        "from timeit import default_timer as timer \n",
        "start_time = timer()\n",
        "\n",
        "# Train model_0 \n",
        "model_GCN_results = train(model=model_GCN, \n",
        "                          train_dataloader=train_dataloader, \n",
        "                          test_dataloader=test_dataloader,\n",
        "                          optimizer=optimizer,\n",
        "                          loss_fn=loss_fn,\n",
        "                          acc_fn=acc_fn,\n",
        "                          epochs=NUM_EPOCHS)\n",
        "\n",
        "# End the timer and print out how long it took\n",
        "end_time = timer()\n",
        "print(f\"Total training time: {end_time-start_time:.3f} seconds\")"
      ],
      "metadata": {
        "id": "0OxLXYn6TBTh",
        "colab": {
          "base_uri": "https://localhost:8080/",
          "height": 1000,
          "referenced_widgets": [
            "60638901d6364dbeb81471ef7dda5d5d",
            "48e0524def75481e97c3d81d895ddbbe",
            "df3c9330a5a14a469c99352a9d479747",
            "4a68e611e47042e0a85ce7c5490442cd",
            "2f3043d6d22f47658fb0f5a2220d3c87",
            "bcce58bd55334941abb080e7824196f6",
            "31cddbdbf37145029dba2b773539aafc",
            "3a395a63bdc845da883f7e7f74d432ae",
            "f8ecbdeeb2c24672bf4e3765be3e101f",
            "5faab201117e4598a9d578f9a17455b8",
            "b85b7903c06a471e8495bbe114106a34"
          ]
        },
        "outputId": "79acac25-31a3-4385-9b95-06d5e9d96966"
      },
      "execution_count": 169,
      "outputs": [
        {
          "output_type": "display_data",
          "data": {
            "text/plain": [
              "  0%|          | 0/75 [00:00<?, ?it/s]"
            ],
            "application/vnd.jupyter.widget-view+json": {
              "version_major": 2,
              "version_minor": 0,
              "model_id": "60638901d6364dbeb81471ef7dda5d5d"
            }
          },
          "metadata": {}
        },
        {
          "output_type": "stream",
          "name": "stdout",
          "text": [
            "Epoch: 1 | train_loss: 0.4504 | train_accuracy: 87.50% | validation_loss: 0.4559 | validation_accuracy: 82.61%\n",
            "Epoch: 2 | train_loss: 0.3993 | train_accuracy: 87.50% | validation_loss: 0.4515 | validation_accuracy: 82.61%\n",
            "Epoch: 3 | train_loss: 0.2935 | train_accuracy: 93.75% | validation_loss: 0.4445 | validation_accuracy: 82.61%\n",
            "Epoch: 4 | train_loss: 0.2528 | train_accuracy: 93.75% | validation_loss: 0.4476 | validation_accuracy: 82.61%\n",
            "Epoch: 5 | train_loss: 0.1425 | train_accuracy: 100.00% | validation_loss: 0.4429 | validation_accuracy: 82.61%\n",
            "Epoch: 6 | train_loss: 0.2797 | train_accuracy: 93.75% | validation_loss: 0.4326 | validation_accuracy: 82.61%\n",
            "Epoch: 7 | train_loss: 0.4620 | train_accuracy: 81.25% | validation_loss: 0.4487 | validation_accuracy: 82.61%\n",
            "Epoch: 8 | train_loss: 0.3657 | train_accuracy: 87.50% | validation_loss: 0.4308 | validation_accuracy: 82.61%\n",
            "Epoch: 9 | train_loss: 0.3739 | train_accuracy: 87.50% | validation_loss: 0.4325 | validation_accuracy: 82.61%\n",
            "Epoch: 10 | train_loss: 0.3431 | train_accuracy: 87.50% | validation_loss: 0.4264 | validation_accuracy: 82.61%\n",
            "Epoch: 11 | train_loss: 0.6224 | train_accuracy: 75.00% | validation_loss: 0.4254 | validation_accuracy: 82.61%\n",
            "Epoch: 12 | train_loss: 0.3259 | train_accuracy: 93.75% | validation_loss: 0.4224 | validation_accuracy: 82.61%\n",
            "Epoch: 13 | train_loss: 0.2207 | train_accuracy: 93.75% | validation_loss: 0.4430 | validation_accuracy: 82.61%\n",
            "Epoch: 14 | train_loss: 0.6684 | train_accuracy: 62.50% | validation_loss: 0.4238 | validation_accuracy: 82.61%\n",
            "Epoch: 15 | train_loss: 0.2371 | train_accuracy: 93.75% | validation_loss: 0.4169 | validation_accuracy: 82.61%\n",
            "Epoch: 16 | train_loss: 0.2235 | train_accuracy: 93.75% | validation_loss: 0.4149 | validation_accuracy: 82.61%\n",
            "Epoch: 17 | train_loss: 0.2353 | train_accuracy: 93.75% | validation_loss: 0.4200 | validation_accuracy: 82.61%\n",
            "Epoch: 18 | train_loss: 0.1901 | train_accuracy: 93.75% | validation_loss: 0.4278 | validation_accuracy: 82.61%\n",
            "Epoch: 19 | train_loss: 0.4292 | train_accuracy: 87.50% | validation_loss: 0.4027 | validation_accuracy: 82.61%\n",
            "Epoch: 20 | train_loss: 0.5812 | train_accuracy: 75.00% | validation_loss: 0.4116 | validation_accuracy: 82.61%\n",
            "Epoch: 21 | train_loss: 0.5024 | train_accuracy: 75.00% | validation_loss: 0.4008 | validation_accuracy: 78.26%\n",
            "Epoch: 22 | train_loss: 0.2364 | train_accuracy: 93.75% | validation_loss: 0.3984 | validation_accuracy: 82.61%\n",
            "Epoch: 23 | train_loss: 0.2441 | train_accuracy: 93.75% | validation_loss: 0.4180 | validation_accuracy: 82.61%\n",
            "Epoch: 24 | train_loss: 0.2473 | train_accuracy: 93.75% | validation_loss: 0.3946 | validation_accuracy: 78.26%\n",
            "Epoch: 25 | train_loss: 0.3947 | train_accuracy: 87.50% | validation_loss: 0.4188 | validation_accuracy: 82.61%\n",
            "Epoch: 26 | train_loss: 0.1539 | train_accuracy: 100.00% | validation_loss: 0.3905 | validation_accuracy: 82.61%\n",
            "Epoch: 27 | train_loss: 0.4190 | train_accuracy: 87.50% | validation_loss: 0.3826 | validation_accuracy: 78.26%\n",
            "Epoch: 28 | train_loss: 0.1966 | train_accuracy: 93.75% | validation_loss: 0.3797 | validation_accuracy: 82.61%\n",
            "Epoch: 29 | train_loss: 0.4188 | train_accuracy: 81.25% | validation_loss: 0.3809 | validation_accuracy: 82.61%\n",
            "Epoch: 30 | train_loss: 0.7026 | train_accuracy: 68.75% | validation_loss: 0.3545 | validation_accuracy: 78.26%\n",
            "Epoch: 31 | train_loss: 0.5375 | train_accuracy: 81.25% | validation_loss: 0.3725 | validation_accuracy: 82.61%\n",
            "Epoch: 32 | train_loss: 0.0920 | train_accuracy: 100.00% | validation_loss: 0.3638 | validation_accuracy: 78.26%\n",
            "Epoch: 33 | train_loss: 0.4068 | train_accuracy: 81.25% | validation_loss: 0.3410 | validation_accuracy: 78.26%\n",
            "Epoch: 34 | train_loss: 0.4877 | train_accuracy: 81.25% | validation_loss: 0.3692 | validation_accuracy: 82.61%\n",
            "Epoch: 35 | train_loss: 0.3327 | train_accuracy: 87.50% | validation_loss: 0.3555 | validation_accuracy: 82.61%\n",
            "Epoch: 36 | train_loss: 0.3860 | train_accuracy: 87.50% | validation_loss: 0.3392 | validation_accuracy: 82.61%\n",
            "Epoch: 37 | train_loss: 0.4463 | train_accuracy: 81.25% | validation_loss: 0.3350 | validation_accuracy: 82.61%\n",
            "Epoch: 38 | train_loss: 0.2587 | train_accuracy: 93.75% | validation_loss: 0.3676 | validation_accuracy: 82.61%\n",
            "Epoch: 39 | train_loss: 0.5089 | train_accuracy: 81.25% | validation_loss: 0.3343 | validation_accuracy: 82.61%\n",
            "Epoch: 40 | train_loss: 0.1457 | train_accuracy: 100.00% | validation_loss: 0.3126 | validation_accuracy: 82.61%\n",
            "Epoch: 41 | train_loss: 0.5499 | train_accuracy: 81.25% | validation_loss: 0.3026 | validation_accuracy: 82.61%\n",
            "Epoch: 42 | train_loss: 0.1264 | train_accuracy: 100.00% | validation_loss: 0.3282 | validation_accuracy: 82.61%\n",
            "Epoch: 43 | train_loss: 0.2792 | train_accuracy: 87.50% | validation_loss: 0.3353 | validation_accuracy: 82.61%\n",
            "Epoch: 44 | train_loss: 0.3869 | train_accuracy: 75.00% | validation_loss: 0.3375 | validation_accuracy: 82.61%\n",
            "Epoch: 45 | train_loss: 0.3853 | train_accuracy: 81.25% | validation_loss: 0.2893 | validation_accuracy: 86.96%\n",
            "Epoch: 46 | train_loss: 0.2827 | train_accuracy: 87.50% | validation_loss: 0.2947 | validation_accuracy: 91.30%\n",
            "Epoch: 47 | train_loss: 0.3431 | train_accuracy: 81.25% | validation_loss: 0.2960 | validation_accuracy: 86.96%\n",
            "Epoch: 48 | train_loss: 0.4468 | train_accuracy: 75.00% | validation_loss: 0.2947 | validation_accuracy: 86.96%\n",
            "Epoch: 49 | train_loss: 0.3348 | train_accuracy: 87.50% | validation_loss: 0.2724 | validation_accuracy: 91.30%\n",
            "Epoch: 50 | train_loss: 0.1703 | train_accuracy: 87.50% | validation_loss: 0.2967 | validation_accuracy: 82.61%\n",
            "Epoch: 51 | train_loss: 0.2086 | train_accuracy: 93.75% | validation_loss: 0.2731 | validation_accuracy: 82.61%\n",
            "Epoch: 52 | train_loss: 0.5647 | train_accuracy: 75.00% | validation_loss: 0.2925 | validation_accuracy: 91.30%\n",
            "Epoch: 53 | train_loss: 0.3414 | train_accuracy: 87.50% | validation_loss: 0.3110 | validation_accuracy: 82.61%\n",
            "Epoch: 54 | train_loss: 0.2675 | train_accuracy: 87.50% | validation_loss: 0.2937 | validation_accuracy: 86.96%\n",
            "Epoch: 55 | train_loss: 0.1936 | train_accuracy: 87.50% | validation_loss: 0.3590 | validation_accuracy: 82.61%\n",
            "Epoch: 56 | train_loss: 0.4036 | train_accuracy: 81.25% | validation_loss: 0.2670 | validation_accuracy: 95.65%\n",
            "Epoch: 57 | train_loss: 0.2537 | train_accuracy: 93.75% | validation_loss: 0.2898 | validation_accuracy: 82.61%\n",
            "Epoch: 58 | train_loss: 0.3823 | train_accuracy: 87.50% | validation_loss: 0.2757 | validation_accuracy: 86.96%\n",
            "Epoch: 59 | train_loss: 0.2187 | train_accuracy: 93.75% | validation_loss: 0.2544 | validation_accuracy: 82.61%\n",
            "Epoch: 60 | train_loss: 0.3965 | train_accuracy: 87.50% | validation_loss: 0.3284 | validation_accuracy: 86.96%\n",
            "Epoch: 61 | train_loss: 0.3612 | train_accuracy: 87.50% | validation_loss: 0.3285 | validation_accuracy: 86.96%\n",
            "Epoch: 62 | train_loss: 0.2242 | train_accuracy: 93.75% | validation_loss: 0.2685 | validation_accuracy: 86.96%\n",
            "Epoch: 63 | train_loss: 0.3197 | train_accuracy: 93.75% | validation_loss: 0.2869 | validation_accuracy: 82.61%\n",
            "Epoch: 64 | train_loss: 0.0807 | train_accuracy: 100.00% | validation_loss: 0.2648 | validation_accuracy: 82.61%\n",
            "Epoch: 65 | train_loss: 0.2943 | train_accuracy: 93.75% | validation_loss: 0.2571 | validation_accuracy: 86.96%\n",
            "Epoch: 66 | train_loss: 0.4402 | train_accuracy: 81.25% | validation_loss: 0.2717 | validation_accuracy: 91.30%\n",
            "Epoch: 67 | train_loss: 0.3316 | train_accuracy: 87.50% | validation_loss: 0.2958 | validation_accuracy: 82.61%\n",
            "Epoch: 68 | train_loss: 0.2769 | train_accuracy: 93.75% | validation_loss: 0.3233 | validation_accuracy: 86.96%\n",
            "Epoch: 69 | train_loss: 0.2098 | train_accuracy: 93.75% | validation_loss: 0.2740 | validation_accuracy: 86.96%\n",
            "Epoch: 70 | train_loss: 0.2195 | train_accuracy: 93.75% | validation_loss: 0.3026 | validation_accuracy: 82.61%\n",
            "Epoch: 71 | train_loss: 0.5727 | train_accuracy: 75.00% | validation_loss: 0.2744 | validation_accuracy: 82.61%\n",
            "Epoch: 72 | train_loss: 0.1747 | train_accuracy: 93.75% | validation_loss: 0.3183 | validation_accuracy: 82.61%\n",
            "Epoch: 73 | train_loss: 0.2891 | train_accuracy: 87.50% | validation_loss: 0.2758 | validation_accuracy: 82.61%\n",
            "Epoch: 74 | train_loss: 0.2328 | train_accuracy: 93.75% | validation_loss: 0.2831 | validation_accuracy: 82.61%\n",
            "Epoch: 75 | train_loss: 0.1203 | train_accuracy: 93.75% | validation_loss: 0.2586 | validation_accuracy: 91.30%\n",
            "Total training time: 18.703 seconds\n"
          ]
        }
      ]
    },
    {
      "cell_type": "markdown",
      "source": [
        "## Step 8: Plot the loss&accuracy curves of Model "
      ],
      "metadata": {
        "id": "TbOvvZjMmtrc"
      }
    },
    {
      "cell_type": "markdown",
      "source": [
        "Create plot_loss_curves function"
      ],
      "metadata": {
        "id": "dPvOWBSFmxUs"
      }
    },
    {
      "cell_type": "code",
      "source": [
        "def plot_loss_curves(results):\n",
        "    \"\"\"Plots training curves of a results dictionary.\n",
        "\n",
        "    Args:\n",
        "        results (dict): dictionary containing list of values, e.g.\n",
        "            {\"train_loss\": [...],\n",
        "             \"train_acc\": [...],\n",
        "             \"test_loss\": [...],\n",
        "             \"test_acc\": [...]}\n",
        "    \"\"\"\n",
        "    \n",
        "    # Get the loss values of the results dictionary (training and test)\n",
        "    loss = results['train_loss']\n",
        "    test_loss = results['validation_loss']\n",
        "\n",
        "    # Get the accuracy values of the results dictionary (training and test)\n",
        "    accuracy = results['train_accuracy']\n",
        "    test_accuracy = results['validation_accuracy']\n",
        "\n",
        "    # Figure out how many epochs there were\n",
        "    epochs = range(len(results['train_loss']))\n",
        "\n",
        "    # Setup a plot \n",
        "    plt.figure(figsize=(15, 7))\n",
        "\n",
        "    # Plot loss\n",
        "    plt.subplot(1, 2, 1)\n",
        "    plt.plot(epochs, loss, label='train_loss')\n",
        "    plt.plot(epochs, test_loss, label='validation_loss')\n",
        "    plt.title('Loss')\n",
        "    plt.xlabel('Epochs')\n",
        "    plt.legend()\n",
        "\n",
        "    # Plot accuracy\n",
        "    plt.subplot(1, 2, 2)\n",
        "    plt.plot(epochs, accuracy, label='train_accuracy')\n",
        "    plt.plot(epochs, test_accuracy, label='validation_accuracy')\n",
        "    plt.title('Accuracy')\n",
        "    plt.xlabel('Epochs')\n",
        "    plt.legend();"
      ],
      "metadata": {
        "id": "SA8ibJu2TBQf"
      },
      "execution_count": 170,
      "outputs": []
    },
    {
      "cell_type": "markdown",
      "source": [
        "Plot loss curves model GCN"
      ],
      "metadata": {
        "id": "lCH9ZwpUm1mz"
      }
    },
    {
      "cell_type": "code",
      "source": [
        "#Plot loss/acc model_GCN\n",
        "plot_loss_curves(model_GCN_results)"
      ],
      "metadata": {
        "id": "FD93CUiWTBOU",
        "colab": {
          "base_uri": "https://localhost:8080/",
          "height": 458
        },
        "outputId": "05ecb253-7f92-46d4-8ae8-697f707c6019"
      },
      "execution_count": 171,
      "outputs": [
        {
          "output_type": "display_data",
          "data": {
            "text/plain": [
              "<Figure size 1080x504 with 2 Axes>"
            ],
            "image/png": "[encoded data removed]"
          },
          "metadata": {
            "needs_background": "light"
          }
        }
      ]
    },
    {
      "cell_type": "markdown",
      "source": [
        "## Step 9: Evaluate the model on the whole Test set"
      ],
      "metadata": {
        "id": "t_UF9bJ7m9Vr"
      }
    },
    {
      "cell_type": "markdown",
      "source": [
        "### 9.1 Evaluation function"
      ],
      "metadata": {
        "id": "Ruidf2XtnC6c"
      }
    },
    {
      "cell_type": "code",
      "source": [
        "def evaluation(model: torch.nn.Module,\n",
        "               test_dataloader,\n",
        "               loss_fn: torch.nn.Module,\n",
        "               acc_fn):\n",
        "  \n",
        "  ### Test evaluation\n",
        "  model.eval()\n",
        "\n",
        "  for data in test_dataloader:\n",
        "    # Send data to target device\n",
        "    x = data.x.to(device)\n",
        "    y = data.y.type(torch.LongTensor).to(device)\n",
        "    edge_index = data.edge_index.to(device)\n",
        "    batch = data.batch.to(device)\n",
        "\n",
        "    with torch.inference_mode():\n",
        "      # 1. Forward pass\n",
        "      out = model(x, edge_index, batch)\n",
        "      test_pred = torch.softmax(out, dim=1).argmax(dim=1)\n",
        "\n",
        "      # 2. Caculate loss and acc\n",
        "      test_loss = loss_fn(out, y)\n",
        "      test_acc = acc_fn(test_pred, y)\n",
        "      \n",
        "      # 3. Caculate f1_score\n",
        "      test_f1_score = f1_score(test_pred, y)\n",
        "      \n",
        "      # 4. Caculate roc_auc\n",
        "      test_roc_auc = roc_auc(test_pred.type(torch.float32), y)\n",
        "      test_roc_auc =test_roc_auc.cpu().detach().numpy().tolist()\n",
        "\n",
        "      # 5. Caculate pr_auc\n",
        "      test_pr_auc = pr_auc(test_pred.type(torch.float32), y)\n",
        "      test_pr_auc = (test_pr_auc[0][0]).cpu().detach().numpy().tolist()\n",
        "\n",
        "  return {\"model_name\": model.__class__.__name__, # only works when model was created with a class\n",
        "          \"model_loss\": test_loss.item(),\n",
        "          \"model_accuracy\": test_acc.item(),\n",
        "          \"model_f1_score\": test_f1_score.item(),\n",
        "          \"model_roc_auc_score\": test_roc_auc,\n",
        "          \"model_pr_auc_score\": test_pr_auc}"
      ],
      "metadata": {
        "id": "HH_Fwu-ITBLQ"
      },
      "execution_count": 172,
      "outputs": []
    },
    {
      "cell_type": "markdown",
      "source": [
        "### 9.2 GCN model evaluation\n",
        "\n"
      ],
      "metadata": {
        "id": "j3K5RSARnHar"
      }
    },
    {
      "cell_type": "code",
      "source": [
        "# Evaluate model on the test set\n",
        "model_evaluation_GCN = evaluation(model=model_GCN,\n",
        "                                  test_dataloader=test_dataloader,\n",
        "                                  loss_fn=loss_fn,\n",
        "                                  acc_fn=acc_fn)\n",
        "\n",
        "model_evaluation_GCN"
      ],
      "metadata": {
        "id": "La9sAGazTBIQ",
        "colab": {
          "base_uri": "https://localhost:8080/"
        },
        "outputId": "2053bf6c-7750-4574-e231-e615bc787fbb"
      },
      "execution_count": 173,
      "outputs": [
        {
          "output_type": "execute_result",
          "data": {
            "text/plain": [
              "{'model_name': 'GCN',\n",
              " 'model_loss': 0.25857317447662354,\n",
              " 'model_accuracy': 0.9130434989929199,\n",
              " 'model_f1_score': 0.9130434989929199,\n",
              " 'model_roc_auc_score': 0.75,\n",
              " 'model_pr_auc_score': 0.9047619104385376}"
            ]
          },
          "metadata": {},
          "execution_count": 173
        }
      ]
    }
  ]
}