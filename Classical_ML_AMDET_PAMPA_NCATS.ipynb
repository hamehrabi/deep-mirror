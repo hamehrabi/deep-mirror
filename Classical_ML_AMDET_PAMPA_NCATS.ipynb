{
  "cells": [
    {
      "cell_type": "markdown",
      "source": [
        "#PAMPA Permeability, NCATS\n",
        "## Binary Classification via classical Machine Learning (ML) algorithms\n",
        "Based on the SMILES string of a compound, using classical ML algorithms, this tutorial explains how to predict whether it will have high permeability (1) or low-to-moderate permeability (0) in the PAMPA assay. \n",
        "\n",
        "**Dataset Description:** PAMPA (parallel artificial membrane permeability assay) is a commonly employed assay to evaluate drug permeability across the cellular membrane. PAMPA is a non-cell-based, low-cost and high-throughput alternative to cellular models. Although PAMPA does not model active and efflux transporters, it still provides permeability values that are useful for absorption prediction because the majority of drugs are absorbed by passive diffusion through the membrane. \n",
        "\n",
        "**References:**\n",
        "[1] Siramshetty, V.B., Shah, P., et al. “Validating ADME QSAR Models Using Marketed Drugs.” SLAS Discovery 2021 Dec;26(10):1326-1336. doi: 10.1177/24725552211017520.\n",
        "\n",
        "**Dataset License:** Not Specified. CC BY 4.0.\n",
        "\n",
        "**Dataset Statistics:** NCATS set - 2035 compounds; Approved drugs set - 142 drugs. \n",
        "\n",
        "###**This tutorial includes four steps:**\n",
        "**Step 1:** To determine the permeability of a PAMPA compound, six basic machine learning algorithms are evaluated in the first step. Following the selection of the best algorithm, the parameters are tuned and the final performance of the model is evaluated. The six algorithms selected include:\n",
        "* **Linear Algorithms:** Logistic Regression (LR) and Linear Discriminant Analysis (LDA).\n",
        "\n",
        "* **Nonlinear Algorithms:** Classification and Regression Trees (CART), Support Vector Machines (SVM), Gaussian Naive Bayes (NB), and k-Nearest Neighbors (KNN).\n",
        "\n",
        "**Step2:** In the second step, the problem model is re-modeled using supervised ensemble learning models, including classical trees, and its performance is evaluated based on five prominent algorithms. The best model is tuned in this stage and the final performance of the model is evaluated.\n",
        "In this section we will evaluate five different ensemble machine learning algorithms, three boosting and two bagging methods:\n",
        "\n",
        "* **Boosting Methods:** AdaBoost (AB) and Gradient Boosting (GBM), XGBoost (XGB).\n",
        "\n",
        "* **Bagging Methods:** Random Forests (RF) and Extra Trees (ET).\n",
        "\n",
        "**Step 3:** In the third step, the performance of the best models from the first and second phases is compared and the best model is selected.\n",
        "\n",
        "**Step 4:** Based on the best algorithm selected from previous steps and using the entire dataset, the modeling and tuning of the problem are performed. \n",
        "\n",
        "**Note:** All the first three steps are implemented based on the 10% of the dataset.\n",
        "\n",
        "**Note:** This tutorial has been designed for running on Colab + GPU."
      ],
      "metadata": {
        "id": "wQs4hfvCrj8Y"
      }
    },
    {
      "cell_type": "markdown",
      "source": [
        "## Install packages and libraries"
      ],
      "metadata": {
        "id": "oFXQRzsKAN0O"
      }
    },
    {
      "cell_type": "code",
      "execution_count": null,
      "metadata": {
        "id": "q4ZQMaTD6oNI"
      },
      "outputs": [],
      "source": [
        "!pip install PyTDC\n",
        "!pip install --pre deepchem\n",
        "!pip install DeepPurpose\n",
        "!pip install PubChemPy\n",
        "!pip install git+https://github.com/samoturk/mol2vec\n",
        "!pip install 'mordred[full]' \n",
        "\n",
        "# !pip install tensorflow==2.4\n",
        "# !pip install gensim==3.8\n",
        "# !pip install numpy==1.20"
      ]
    },
    {
      "cell_type": "markdown",
      "source": [
        "## Imports"
      ],
      "metadata": {
        "id": "4AYzU1mzAqHG"
      }
    },
    {
      "cell_type": "code",
      "execution_count": 2,
      "metadata": {
        "id": "REqT3He461UA",
        "colab": {
          "base_uri": "https://localhost:8080/"
        },
        "outputId": "7fc2da7f-81dd-47ab-c2f5-3323fdfb6450"
      },
      "outputs": [
        {
          "output_type": "stream",
          "name": "stderr",
          "text": [
            "WARNING:deepchem.models.torch_models:Skipped loading modules with pytorch-geometric dependency, missing a dependency. No module named 'torch_geometric'\n",
            "WARNING:deepchem.models:Skipped loading modules with pytorch-geometric dependency, missing a dependency. cannot import name 'DMPNN' from 'deepchem.models.torch_models' (/usr/local/lib/python3.8/dist-packages/deepchem/models/torch_models/__init__.py)\n",
            "WARNING:deepchem.models:Skipped loading modules with pytorch-lightning dependency, missing a dependency. No module named 'pytorch_lightning'\n",
            "WARNING:deepchem.models:Skipped loading some Jax models, missing a dependency. No module named 'haiku'\n"
          ]
        }
      ],
      "source": [
        "import sys\n",
        "import deepchem\n",
        "from mol2vec import features\n",
        "from mol2vec import helpers\n",
        "import mordred\n",
        "import numpy as np\n",
        "import pandas as pd\n",
        "import matplotlib.pyplot as plt"
      ]
    },
    {
      "cell_type": "markdown",
      "source": [
        "## Import [dataset](https://tdcommons.ai/single_pred_tasks/adme/#pampa-permeability-ncats)"
      ],
      "metadata": {
        "id": "vUVA80tBA-Id"
      }
    },
    {
      "cell_type": "code",
      "execution_count": 3,
      "metadata": {
        "colab": {
          "base_uri": "https://localhost:8080/"
        },
        "id": "u6uhr_lE61Qw",
        "outputId": "4f52e663-1969-4ab5-e052-8f4e2519a4fc"
      },
      "outputs": [
        {
          "output_type": "stream",
          "name": "stderr",
          "text": [
            "Downloading...\n",
            "100%|██████████| 144k/144k [00:00<00:00, 338kiB/s] \n",
            "Loading...\n",
            "Done!\n"
          ]
        }
      ],
      "source": [
        "# import dataset\n",
        "from tdc.single_pred import ADME\n",
        "data = ADME(name = 'PAMPA_NCATS')\n",
        "split = data.get_split()"
      ]
    },
    {
      "cell_type": "markdown",
      "source": [
        "Determine the shape of Train, Val, Test split"
      ],
      "metadata": {
        "id": "GtZePur1BM_e"
      }
    },
    {
      "cell_type": "code",
      "execution_count": 4,
      "metadata": {
        "colab": {
          "base_uri": "https://localhost:8080/"
        },
        "id": "lz_G2UAe61Nl",
        "outputId": "a76d353f-222d-4f68-abe9-fa8068ca7852"
      },
      "outputs": [
        {
          "output_type": "stream",
          "name": "stdout",
          "text": [
            "train shape:  (1424, 3)\n",
            "validation shape:  (203, 3)\n",
            "test shape:  (407, 3)\n"
          ]
        }
      ],
      "source": [
        "print(f'train shape: ', split['train'].shape)\n",
        "print(f'validation shape: ', split['valid'].shape)\n",
        "print(f'test shape: ', split['test'].shape)"
      ]
    },
    {
      "cell_type": "markdown",
      "source": [
        "Creating input and target variables for each train, validation, and test dataset."
      ],
      "metadata": {
        "id": "-zKwSiAVBbQc"
      }
    },
    {
      "cell_type": "code",
      "execution_count": 5,
      "metadata": {
        "colab": {
          "base_uri": "https://localhost:8080/"
        },
        "id": "7ANRHrFv60sF",
        "outputId": "edda6325-4201-4ee8-ebf5-b95b51b21520"
      },
      "outputs": [
        {
          "output_type": "stream",
          "name": "stdout",
          "text": [
            "X_train:  ['COC1=C(C=C(C=C1)CCN2C(=CC(=O)NC2=S)N)OC', 'COC1=C(C=C(C=C1)Cl)C(=O)NC2=CC=C(C=C2)NC(=O)C3=CC=CO3', 'CN1C2=CC=CC=C2C(=O)C3=C1N=C(N(C3=O)C4=CC=CC=C4)C5CCCCC5']\n",
            "y_train:  [0, 1, 1]\n"
          ]
        }
      ],
      "source": [
        "train = split['train']\n",
        "valid = split['valid']\n",
        "test = split['test']\n",
        "\n",
        "#====================================\n",
        "X_train = train['Drug'].to_list()\n",
        "y_train = train['Y'].to_list()\n",
        "\n",
        "X_valid = valid['Drug'].to_list()\n",
        "y_valid = valid['Y'].to_list()\n",
        "\n",
        "X_test = test['Drug'].to_list()\n",
        "y_test = test['Y'].to_list()\n",
        "\n",
        "#====================================\n",
        "print(f\"X_train: \", X_train[0:3])\n",
        "print(f\"y_train: \", y_train[0:3])"
      ]
    },
    {
      "cell_type": "code",
      "execution_count": 6,
      "metadata": {
        "colab": {
          "base_uri": "https://localhost:8080/",
          "height": 206
        },
        "id": "YHDk25Oa_u-_",
        "outputId": "2a983c86-2a76-43c6-e70e-2ce878fbf7b5"
      },
      "outputs": [
        {
          "output_type": "execute_result",
          "data": {
            "text/plain": [
              "   Drug_ID                                               Drug  Y\n",
              "0  1259573            COC1=C(C=C(C=C1)CCN2C(=CC(=O)NC2=S)N)OC  0\n",
              "1  1275864  COC1=C(C=C(C=C1)Cl)C(=O)NC2=CC=C(C=C2)NC(=O)C3...  1\n",
              "2  2030130  CN1C2=CC=CC=C2C(=O)C3=C1N=C(N(C3=O)C4=CC=CC=C4...  1\n",
              "3  4422695  CC1=C(C=C(C=C1)NS(=O)(=O)C2=CC=CC(=C2)C(=O)O)S...  1\n",
              "4  1131802  COC1=CC(=CC(=C1O)OC)C2=NC(=C(N2)C3=CC=CS3)C4=C...  1"
            ],
            "text/html": [
              "\n",
              "  <div id=\"df-1a628dac-69b7-45fc-8504-4e849e34c86d\">\n",
              "    <div class=\"colab-df-container\">\n",
              "      <div>\n",
              "<style scoped>\n",
              "    .dataframe tbody tr th:only-of-type {\n",
              "        vertical-align: middle;\n",
              "    }\n",
              "\n",
              "    .dataframe tbody tr th {\n",
              "        vertical-align: top;\n",
              "    }\n",
              "\n",
              "    .dataframe thead th {\n",
              "        text-align: right;\n",
              "    }\n",
              "</style>\n",
              "<table border=\"1\" class=\"dataframe\">\n",
              "  <thead>\n",
              "    <tr style=\"text-align: right;\">\n",
              "      <th></th>\n",
              "      <th>Drug_ID</th>\n",
              "      <th>Drug</th>\n",
              "      <th>Y</th>\n",
              "    </tr>\n",
              "  </thead>\n",
              "  <tbody>\n",
              "    <tr>\n",
              "      <th>0</th>\n",
              "      <td>1259573</td>\n",
              "      <td>COC1=C(C=C(C=C1)CCN2C(=CC(=O)NC2=S)N)OC</td>\n",
              "      <td>0</td>\n",
              "    </tr>\n",
              "    <tr>\n",
              "      <th>1</th>\n",
              "      <td>1275864</td>\n",
              "      <td>COC1=C(C=C(C=C1)Cl)C(=O)NC2=CC=C(C=C2)NC(=O)C3...</td>\n",
              "      <td>1</td>\n",
              "    </tr>\n",
              "    <tr>\n",
              "      <th>2</th>\n",
              "      <td>2030130</td>\n",
              "      <td>CN1C2=CC=CC=C2C(=O)C3=C1N=C(N(C3=O)C4=CC=CC=C4...</td>\n",
              "      <td>1</td>\n",
              "    </tr>\n",
              "    <tr>\n",
              "      <th>3</th>\n",
              "      <td>4422695</td>\n",
              "      <td>CC1=C(C=C(C=C1)NS(=O)(=O)C2=CC=CC(=C2)C(=O)O)S...</td>\n",
              "      <td>1</td>\n",
              "    </tr>\n",
              "    <tr>\n",
              "      <th>4</th>\n",
              "      <td>1131802</td>\n",
              "      <td>COC1=CC(=CC(=C1O)OC)C2=NC(=C(N2)C3=CC=CS3)C4=C...</td>\n",
              "      <td>1</td>\n",
              "    </tr>\n",
              "  </tbody>\n",
              "</table>\n",
              "</div>\n",
              "      <button class=\"colab-df-convert\" onclick=\"convertToInteractive('df-1a628dac-69b7-45fc-8504-4e849e34c86d')\"\n",
              "              title=\"Convert this dataframe to an interactive table.\"\n",
              "              style=\"display:none;\">\n",
              "        \n",
              "  <svg xmlns=\"http://www.w3.org/2000/svg\" height=\"24px\"viewBox=\"0 0 24 24\"\n",
              "       width=\"24px\">\n",
              "    <path d=\"M0 0h24v24H0V0z\" fill=\"none\"/>\n",
              "    <path d=\"M18.56 5.44l.94 2.06.94-2.06 2.06-.94-2.06-.94-.94-2.06-.94 2.06-2.06.94zm-11 1L8.5 8.5l.94-2.06 2.06-.94-2.06-.94L8.5 2.5l-.94 2.06-2.06.94zm10 10l.94 2.06.94-2.06 2.06-.94-2.06-.94-.94-2.06-.94 2.06-2.06.94z\"/><path d=\"M17.41 7.96l-1.37-1.37c-.4-.4-.92-.59-1.43-.59-.52 0-1.04.2-1.43.59L10.3 9.45l-7.72 7.72c-.78.78-.78 2.05 0 2.83L4 21.41c.39.39.9.59 1.41.59.51 0 1.02-.2 1.41-.59l7.78-7.78 2.81-2.81c.8-.78.8-2.07 0-2.86zM5.41 20L4 18.59l7.72-7.72 1.47 1.35L5.41 20z\"/>\n",
              "  </svg>\n",
              "      </button>\n",
              "      \n",
              "  <style>\n",
              "    .colab-df-container {\n",
              "      display:flex;\n",
              "      flex-wrap:wrap;\n",
              "      gap: 12px;\n",
              "    }\n",
              "\n",
              "    .colab-df-convert {\n",
              "      background-color: #E8F0FE;\n",
              "      border: none;\n",
              "      border-radius: 50%;\n",
              "      cursor: pointer;\n",
              "      display: none;\n",
              "      fill: #1967D2;\n",
              "      height: 32px;\n",
              "      padding: 0 0 0 0;\n",
              "      width: 32px;\n",
              "    }\n",
              "\n",
              "    .colab-df-convert:hover {\n",
              "      background-color: #E2EBFA;\n",
              "      box-shadow: 0px 1px 2px rgba(60, 64, 67, 0.3), 0px 1px 3px 1px rgba(60, 64, 67, 0.15);\n",
              "      fill: #174EA6;\n",
              "    }\n",
              "\n",
              "    [theme=dark] .colab-df-convert {\n",
              "      background-color: #3B4455;\n",
              "      fill: #D2E3FC;\n",
              "    }\n",
              "\n",
              "    [theme=dark] .colab-df-convert:hover {\n",
              "      background-color: #434B5C;\n",
              "      box-shadow: 0px 1px 3px 1px rgba(0, 0, 0, 0.15);\n",
              "      filter: drop-shadow(0px 1px 2px rgba(0, 0, 0, 0.3));\n",
              "      fill: #FFFFFF;\n",
              "    }\n",
              "  </style>\n",
              "\n",
              "      <script>\n",
              "        const buttonEl =\n",
              "          document.querySelector('#df-1a628dac-69b7-45fc-8504-4e849e34c86d button.colab-df-convert');\n",
              "        buttonEl.style.display =\n",
              "          google.colab.kernel.accessAllowed ? 'block' : 'none';\n",
              "\n",
              "        async function convertToInteractive(key) {\n",
              "          const element = document.querySelector('#df-1a628dac-69b7-45fc-8504-4e849e34c86d');\n",
              "          const dataTable =\n",
              "            await google.colab.kernel.invokeFunction('convertToInteractive',\n",
              "                                                     [key], {});\n",
              "          if (!dataTable) return;\n",
              "\n",
              "          const docLinkHtml = 'Like what you see? Visit the ' +\n",
              "            '<a target=\"_blank\" href=https://colab.research.google.com/notebooks/data_table.ipynb>data table notebook</a>'\n",
              "            + ' to learn more about interactive tables.';\n",
              "          element.innerHTML = '';\n",
              "          dataTable['output_type'] = 'display_data';\n",
              "          await google.colab.output.renderOutput(dataTable, element);\n",
              "          const docLink = document.createElement('div');\n",
              "          docLink.innerHTML = docLinkHtml;\n",
              "          element.appendChild(docLink);\n",
              "        }\n",
              "      </script>\n",
              "    </div>\n",
              "  </div>\n",
              "  "
            ]
          },
          "metadata": {},
          "execution_count": 6
        }
      ],
      "source": [
        "train.head()"
      ]
    },
    {
      "cell_type": "markdown",
      "source": [
        "## Data preprocessing: \n",
        "The following part will involve the transformation of our dataset from the form of SMILES string compounds to binary form using different **featurizers** from the **DeepChem** library. This library provides some of the main features that are used in the field of drug discovery (biology, chemistry, etc.).\n",
        "\n",
        "Featurizer = *A “featurizer” is chunk of code which transforms raw input data into a processed form suitable for machine learning.*\n",
        "\n"
      ],
      "metadata": {
        "id": "x4b_9jB4CcNq"
      }
    },
    {
      "cell_type": "markdown",
      "source": [
        "Mol2vec and Morded featureizers are inactive due to some dependencies not being met.There are some conflicts between the libraries they use."
      ],
      "metadata": {
        "id": "mYBAABp0FNvL"
      }
    },
    {
      "cell_type": "code",
      "execution_count": 7,
      "metadata": {
        "id": "z_sD_PLg60ah"
      },
      "outputs": [],
      "source": [
        "# featurize\n",
        "maccskeys = deepchem.feat.MACCSKeysFingerprint()\n",
        "circular = deepchem.feat.CircularFingerprint()\n",
        "# mol2vec = deepchem.feat.Mol2VecFingerprint()\n",
        "# mordred = deepchem.feat.MordredDescriptors(ignore_3D=True)\n",
        "rdkit = deepchem.feat.RDKitDescriptors()\n",
        "pubchem = deepchem.feat.PubChemFingerprint()"
      ]
    },
    {
      "cell_type": "markdown",
      "source": [
        "Mapping featurizers to the dataset. "
      ],
      "metadata": {
        "id": "u3Cs4fvPGTbB"
      }
    },
    {
      "cell_type": "code",
      "execution_count": null,
      "metadata": {
        "id": "zshWDzl0C-xi"
      },
      "outputs": [],
      "source": [
        "maccskeys_train = maccskeys.featurize(X_train)\n",
        "maccskeys_valid = maccskeys.featurize(X_valid)\n",
        "maccskeys_test = maccskeys.featurize(X_test)\n",
        "\n",
        "circular_train = circular.featurize(X_train)\n",
        "circular_valid = circular.featurize(X_valid)\n",
        "circular_test = circular.featurize(X_test)\n",
        "\n",
        "# mol2vec_train = mol2vec.featurize(X_train)\n",
        "# mol2vec_valid = mol2vec.featurize(X_valid)\n",
        "# mol2vec_test = mol2vec.featurize(X_test)\n",
        "\n",
        "# mordred_train = mordred.featurize(X_train)\n",
        "# mordred_valid = mordred.featurize(X_valid)\n",
        "# mordred_test = mordred.featurize(X_test)\n",
        "\n",
        "rdkit_train = rdkit.featurize(X_train)\n",
        "rdkit_valid = rdkit.featurize(X_valid)\n",
        "rdkit_test = rdkit.featurize(X_test)\n",
        "\n",
        "pubchem_train = pubchem.featurize(X_train)\n",
        "pubchem_valid = pubchem.featurize(X_valid)\n",
        "pubchem_test = pubchem.featurize(X_test)"
      ]
    },
    {
      "cell_type": "markdown",
      "source": [
        "Eliminating empty lists"
      ],
      "metadata": {
        "id": "N9S68eBrGh0D"
      }
    },
    {
      "cell_type": "code",
      "execution_count": null,
      "metadata": {
        "id": "HoJbm0cWC-r3"
      },
      "outputs": [],
      "source": [
        "# process pubchem empty lists\n",
        "pubchem_train_tmp = []\n",
        "for i in range(len(pubchem_train)):\n",
        "    if len(pubchem_train[i]) == 0:\n",
        "        pubchem_train = np.array([0] * 881)\n",
        "    pubchem_train_tmp.append(pubchem_train[i].tolist())\n",
        "\n",
        "pubchem_train = np.array(pubchem_train_tmp)\n",
        "\n",
        "pubchem_valid_tmp = []\n",
        "for i in range(len(pubchem_valid)):\n",
        "    if len(pubchem_valid[i]) == 0:\n",
        "        pubchem_valid[i] = np.array([0] * 881)\n",
        "    pubchem_valid_tmp.append(pubchem_valid[i].tolist())\n",
        "\n",
        "pubchem_valid = np.array(pubchem_valid_tmp)\n",
        "\n",
        "pubchem_test_tmp = []\n",
        "for i in range(len(pubchem_test)):\n",
        "    if len(pubchem_test[i]) == 0:\n",
        "        pubchem_test[i] = np.array([0] * 881)\n",
        "    pubchem_test_tmp.append(pubchem_test[i].tolist())\n",
        "\n",
        "pubchem_test = np.array(pubchem_test_tmp)"
      ]
    },
    {
      "cell_type": "markdown",
      "source": [
        "Combining features into the single files: `fp_train`, `fp_valid`, `fp_test`\n"
      ],
      "metadata": {
        "id": "5HwJwBZ-Gt6_"
      }
    },
    {
      "cell_type": "code",
      "execution_count": null,
      "metadata": {
        "id": "o7iRDVyzBlyj"
      },
      "outputs": [],
      "source": [
        "# combine features\n",
        "fp_train = np.concatenate(\n",
        "    (\n",
        "        maccskeys_train, circular_train, rdkit_train, pubchem_train #, mordred_train,mol2vec_train,\n",
        "    ), axis=1\n",
        ")\n",
        "\n",
        "fp_valid = np.concatenate(\n",
        "    (\n",
        "        maccskeys_valid, circular_valid, rdkit_valid, pubchem_valid #, mordred_test,mol2vec_test,\n",
        "    ), axis=1\n",
        ")\n",
        "\n",
        "fp_test = np.concatenate(\n",
        "    (\n",
        "        maccskeys_test, circular_test, rdkit_test, pubchem_test #, mordred_test,mol2vec_test,\n",
        "    ), axis=1\n",
        ")"
      ]
    },
    {
      "cell_type": "markdown",
      "source": [
        "Converting `nan` to `0`"
      ],
      "metadata": {
        "id": "io1wPYrDHCTE"
      }
    },
    {
      "cell_type": "code",
      "source": [
        "# convert nan to 0\n",
        "fp_train = np.nan_to_num(fp_train, nan=0, posinf=0)\n",
        "fp_valid = np.nan_to_num(fp_valid, nan=0, posinf=0)\n",
        "fp_test = np.nan_to_num(fp_test, nan=0, posinf=0)"
      ],
      "metadata": {
        "id": "sZW8v7veOwPu"
      },
      "execution_count": null,
      "outputs": []
    },
    {
      "cell_type": "markdown",
      "source": [
        "Determine the shape of the input and target variables in the `train, Val, test` dataset."
      ],
      "metadata": {
        "id": "XJU2NjnPHHaX"
      }
    },
    {
      "cell_type": "code",
      "source": [
        "print(f\"X_train shape: \", fp_train.shape)\n",
        "print(f\"y_train shape: \", np.shape(y_train))\n",
        "\n",
        "print(f\"X_valid shape: \", fp_valid.shape)\n",
        "print(f\"y_valid shape: \", np.shape(y_valid))\n",
        "\n",
        "print(f\"X_test shape: \", fp_test.shape)\n",
        "print(f\"y_test shape: \", np.shape(y_test))"
      ],
      "metadata": {
        "colab": {
          "base_uri": "https://localhost:8080/"
        },
        "id": "kIUYfmbqOwMT",
        "outputId": "02faff10-bc71-4b21-d67e-73465be512f3"
      },
      "execution_count": null,
      "outputs": [
        {
          "output_type": "stream",
          "name": "stdout",
          "text": [
            "X_train shape:  (1424, 3304)\n",
            "y_train shape:  (1424,)\n",
            "X_valid shape:  (203, 3304)\n",
            "y_valid shape:  (203,)\n",
            "X_test shape:  (407, 3304)\n",
            "y_test shape:  (407,)\n"
          ]
        }
      ]
    },
    {
      "cell_type": "markdown",
      "source": [
        "Save the preprocessed datasets in the form of NumPy arrays. "
      ],
      "metadata": {
        "id": "wHNNomAoHuKI"
      }
    },
    {
      "cell_type": "code",
      "source": [
        "# save to npy\n",
        "np.save(open(\"/content/\" + \"PAMPA_NCATS\" + \"_X_train.npy\", \"wb\"), fp_train)\n",
        "np.save(open(\"/content/\" + \"PAMPA_NCATS\" + \"_X_valid.npy\", \"wb\"), fp_valid)\n",
        "np.save(open(\"/content/\" + \"PAMPA_NCATS\" + \"_X_test.npy\", \"wb\"), fp_test)\n",
        "np.save(open(\"/content/\" + \"PAMPA_NCATS\" + \"_y_train.npy\", \"wb\"), y_train)\n",
        "np.save(open(\"/content/\" + \"PAMPA_NCATS\" + \"_y_valid.npy\", \"wb\"), y_valid)\n",
        "np.save(open(\"/content/\" + \"PAMPA_NCATS\" + \"_y_test.npy\", \"wb\"), y_test)"
      ],
      "metadata": {
        "id": "5kCEDnXfxLhL"
      },
      "execution_count": null,
      "outputs": []
    },
    {
      "cell_type": "markdown",
      "source": [
        "# Algorithm performance checking\n",
        "**Note:** The algorithm's performance is evaluated using only **10%** of the \"train\" dataset in order to establish a baseline model and to create a faster evaluation process. The problem will be remodeled with the whole dataset once the best machine-learning algorithm has been selected. "
      ],
      "metadata": {
        "id": "AhM5xX_CyJgW"
      }
    },
    {
      "cell_type": "markdown",
      "source": [
        "Import relevant libraries to check the algorithms' performances.\n"
      ],
      "metadata": {
        "id": "ZhVjZJrcIAX8"
      }
    },
    {
      "cell_type": "code",
      "source": [
        "# Load libraries\n",
        "import numpy as np\n",
        "import pandas as pd\n",
        "import xgboost\n",
        "from xgboost import XGBClassifier\n",
        "import matplotlib.pyplot as plt\n",
        "from pandas import set_option\n",
        "from pandas.plotting import scatter_matrix\n",
        "from sklearn.preprocessing import StandardScaler\n",
        "from sklearn.model_selection import train_test_split\n",
        "from sklearn.model_selection import KFold\n",
        "from sklearn.model_selection import cross_val_score\n",
        "from sklearn.model_selection import GridSearchCV\n",
        "#from skopt import BayesSearchCV\n",
        "from sklearn.metrics import classification_report\n",
        "from sklearn.metrics import confusion_matrix\n",
        "from sklearn.metrics import accuracy_score\n",
        "from sklearn.pipeline import Pipeline\n",
        "from sklearn.linear_model import LogisticRegression\n",
        "from sklearn.tree import DecisionTreeClassifier\n",
        "from sklearn.neighbors import KNeighborsClassifier\n",
        "from sklearn.discriminant_analysis import LinearDiscriminantAnalysis\n",
        "from sklearn.naive_bayes import GaussianNB\n",
        "from sklearn.svm import SVC\n",
        "from sklearn.ensemble import AdaBoostClassifier\n",
        "from sklearn.ensemble import GradientBoostingClassifier\n",
        "from sklearn.ensemble import RandomForestClassifier\n",
        "from sklearn.ensemble import ExtraTreesClassifier\n",
        "from sklearn.model_selection import RandomizedSearchCV\n",
        "from sklearn.metrics import make_scorer, average_precision_score"
      ],
      "metadata": {
        "id": "iN9Z_DVTEstl"
      },
      "execution_count": 8,
      "outputs": []
    },
    {
      "cell_type": "markdown",
      "source": [
        "Importing 10% of the train dataset"
      ],
      "metadata": {
        "id": "zajZCyykISPG"
      }
    },
    {
      "cell_type": "code",
      "source": [
        "#use train dataset to evaluating different algorithms performances\n",
        "sample_X = np.load('/content/drive/MyDrive/DeepMirror/PAMPA_NCATS_Dataset/PAMPA_NCATS_X_train.npy') #Depending on the directory, the address should be changed\n",
        "sample_y = np.load('/content/drive/MyDrive/DeepMirror/PAMPA_NCATS_Dataset/PAMPA_NCATS_y_train.npy') #Depending on the directory, the address should be changed\n",
        "\n",
        "# Create train and test splits the right way for time series data\n",
        "split_size = int(0.1 * len(sample_X)) # 10% train\n",
        "\n",
        "# Create train data splits (everything before the split)\n",
        "X_sample = sample_X[:split_size]\n",
        "y_sample = sample_y[:split_size]\n",
        "\n",
        "# X, y shapes\n",
        "print(f\"X_sample shape: \", X_sample.shape)\n",
        "print(f\"y_sample shape: \", y_sample.shape)"
      ],
      "metadata": {
        "id": "_rDsCq-2OwFg",
        "colab": {
          "base_uri": "https://localhost:8080/"
        },
        "outputId": "851afde7-0efe-42d1-c862-be125909dded"
      },
      "execution_count": 9,
      "outputs": [
        {
          "output_type": "stream",
          "name": "stdout",
          "text": [
            "X_sample shape:  (142, 3304)\n",
            "y_sample shape:  (142,)\n"
          ]
        }
      ]
    },
    {
      "cell_type": "markdown",
      "source": [
        "We will use 80% of the dataset for modeling and hold back 20% for validation."
      ],
      "metadata": {
        "id": "ViJXCrrzJ5Nj"
      }
    },
    {
      "cell_type": "code",
      "source": [
        "# Split-out validation dataset\n",
        "validation_size = 0.20\n",
        "seed = 42\n",
        "X_train, X_validation, Y_train, Y_validation = train_test_split(X_sample, y_sample, test_size=validation_size, random_state=seed)"
      ],
      "metadata": {
        "id": "BadUca0w5KiV"
      },
      "execution_count": 10,
      "outputs": []
    },
    {
      "cell_type": "markdown",
      "source": [
        "##Step 1: Evaluate Classical ML Algorithms: Baseline\n",
        "\n",
        "* **Linear Algorithms:** Logistic Regression (LR) and Linear Discriminant Analysis (LDA).\n",
        "\n",
        "* **Nonlinear Algorithms:** Classification and Regression Trees (CART), Support Vector Machines (SVM), Gaussian Naive Bayes (NB), and k-Nearest Neighbors (KNN).\n",
        "\n",
        "We will use **10-fold cross validation**. The dataset is not too small and this is a good standard test harness configuration. We will evaluate algorithms using the **accuracy** metric. This is a gross metric that will give a quick idea of how correct a given model is. "
      ],
      "metadata": {
        "id": "UVx_4zF79rpc"
      }
    },
    {
      "cell_type": "code",
      "source": [
        "# Test options and evaluation metric\n",
        "num_folds = 10\n",
        "seed = 42\n",
        "scoring = 'accuracy'"
      ],
      "metadata": {
        "id": "R8VrXzT35Kfp"
      },
      "execution_count": 11,
      "outputs": []
    },
    {
      "cell_type": "code",
      "source": [
        "# Spot-Check Algorithms\n",
        "models = []\n",
        "models.append(('LR', LogisticRegression()))\n",
        "models.append(('LDA', LinearDiscriminantAnalysis()))\n",
        "models.append(('KNN', KNeighborsClassifier()))\n",
        "models.append(('CART', DecisionTreeClassifier()))\n",
        "models.append(('NB', GaussianNB()))\n",
        "models.append(('SVM', SVC()))"
      ],
      "metadata": {
        "id": "SgjAWqPK5Kc7"
      },
      "execution_count": 12,
      "outputs": []
    },
    {
      "cell_type": "code",
      "source": [
        "results = []\n",
        "names = []\n",
        "for name, model in models:\n",
        "  kfold = KFold(n_splits=num_folds, shuffle=True, random_state=seed)\n",
        "  cv_results = cross_val_score(model, X_train, Y_train, cv=kfold, scoring=scoring)\n",
        "  results.append(cv_results)\n",
        "  names.append(name)\n",
        "  print(f\" name: {name} , Accuracy: {cv_results.mean()*100:.3f}%, Std: {cv_results.std()}\")"
      ],
      "metadata": {
        "id": "_u-T2RdX5KaF",
        "colab": {
          "base_uri": "https://localhost:8080/"
        },
        "outputId": "0f7491aa-7e6a-493a-c84d-e73ea4d3362c"
      },
      "execution_count": 13,
      "outputs": [
        {
          "output_type": "stream",
          "name": "stdout",
          "text": [
            " name: LR , Accuracy: 63.106%, Std: 0.1282094855161214\n",
            " name: LDA , Accuracy: 69.773%, Std: 0.12468739607566022\n",
            " name: KNN , Accuracy: 71.667%, Std: 0.11892733001933582\n",
            " name: CART , Accuracy: 71.742%, Std: 0.06320652085944292\n",
            " name: NB , Accuracy: 68.030%, Std: 0.11705955098011334\n",
            " name: SVM , Accuracy: 74.167%, Std: 0.09763326462737905\n"
          ]
        }
      ]
    },
    {
      "cell_type": "markdown",
      "source": [
        "Algorithm Comparison"
      ],
      "metadata": {
        "id": "bRbmOErrKoPG"
      }
    },
    {
      "cell_type": "code",
      "source": [
        "# Compare Algorithms\n",
        "fig = plt.figure()\n",
        "fig.suptitle('Algorithm Comparison')\n",
        "ax = fig.add_subplot(111)\n",
        "plt.boxplot(results)\n",
        "ax.set_xticklabels(names)\n",
        "plt.show()"
      ],
      "metadata": {
        "id": "GQwwlBJk5KW9",
        "colab": {
          "base_uri": "https://localhost:8080/",
          "height": 294
        },
        "outputId": "9dbf9355-3ff4-4482-c754-0b2a172efa20"
      },
      "execution_count": 14,
      "outputs": [
        {
          "output_type": "display_data",
          "data": {
            "text/plain": [
              "<Figure size 432x288 with 1 Axes>"
            ],
            "image/png": "[encoded data removed]"
          },
          "metadata": {
            "needs_background": "light"
          }
        }
      ]
    },
    {
      "cell_type": "markdown",
      "source": [
        "##Algorithm Tuning :SVM and KNN \n",
        "\n",
        "Based on the above chart, it can be seen that the **SVM** and **KNN** have better performance than the other algorithms. Therefore, to select the best classical ML algorithm, both SVM and KNN have been **tuned** and their performance has been evaluated."
      ],
      "metadata": {
        "id": "rSrnpG5oACoG"
      }
    },
    {
      "cell_type": "markdown",
      "source": [
        "###Tuning SVM"
      ],
      "metadata": {
        "id": "zVYhaOB5P30k"
      }
    },
    {
      "cell_type": "code",
      "source": [
        "# Tune scaled SVM\n",
        "c_values = [0.1, 0.3, 0.5, 0.7, 0.9, 1.0, 1.3, 1.5, 1.7, 2.0]\n",
        "kernel_values = ['linear', 'poly', 'rbf', 'sigmoid']\n",
        "param_grid = dict(C=c_values, kernel=kernel_values)\n",
        "model = SVC()\n",
        "kfold = KFold(n_splits=num_folds, shuffle=True, random_state=seed)\n",
        "grid = GridSearchCV(estimator=model, param_grid=param_grid, scoring=scoring, cv=kfold)\n",
        "grid_result = grid.fit(X_train, Y_train)\n",
        "print(f\"Best:{grid_result.best_score_*100:.2f}%, using  Param:{grid_result.best_params_}\")\n",
        "means = grid_result.cv_results_['mean_test_score']\n",
        "stds = grid_result.cv_results_['std_test_score']\n",
        "params = grid_result.cv_results_['params']\n",
        "for mean, stdev, param in zip(means, stds, params):\n",
        "  print(f\"Accuracy:{mean*100:.2f}%, Std:{stdev}, Param:{param}\")"
      ],
      "metadata": {
        "id": "a9d215Lh5KSw",
        "colab": {
          "base_uri": "https://localhost:8080/"
        },
        "outputId": "ab2ec2de-852b-4d4e-c3b4-a6b1908b74dc"
      },
      "execution_count": 15,
      "outputs": [
        {
          "output_type": "stream",
          "name": "stdout",
          "text": [
            "Best:74.24%, using  Param:{'C': 1.7, 'kernel': 'sigmoid'}\n",
            "Accuracy:62.12%, Std:0.12771388189628194, Param:{'C': 0.1, 'kernel': 'linear'}\n",
            "Accuracy:74.17%, Std:0.09763326462737905, Param:{'C': 0.1, 'kernel': 'poly'}\n",
            "Accuracy:74.17%, Std:0.09763326462737905, Param:{'C': 0.1, 'kernel': 'rbf'}\n",
            "Accuracy:74.17%, Std:0.09763326462737905, Param:{'C': 0.1, 'kernel': 'sigmoid'}\n",
            "Accuracy:62.12%, Std:0.12771388189628194, Param:{'C': 0.3, 'kernel': 'linear'}\n",
            "Accuracy:74.17%, Std:0.09763326462737905, Param:{'C': 0.3, 'kernel': 'poly'}\n",
            "Accuracy:74.17%, Std:0.09763326462737905, Param:{'C': 0.3, 'kernel': 'rbf'}\n",
            "Accuracy:74.17%, Std:0.09763326462737905, Param:{'C': 0.3, 'kernel': 'sigmoid'}\n",
            "Accuracy:62.12%, Std:0.12771388189628194, Param:{'C': 0.5, 'kernel': 'linear'}\n",
            "Accuracy:74.17%, Std:0.09763326462737905, Param:{'C': 0.5, 'kernel': 'poly'}\n",
            "Accuracy:74.17%, Std:0.09763326462737905, Param:{'C': 0.5, 'kernel': 'rbf'}\n",
            "Accuracy:74.17%, Std:0.09763326462737905, Param:{'C': 0.5, 'kernel': 'sigmoid'}\n",
            "Accuracy:62.12%, Std:0.12771388189628194, Param:{'C': 0.7, 'kernel': 'linear'}\n",
            "Accuracy:74.17%, Std:0.09763326462737905, Param:{'C': 0.7, 'kernel': 'poly'}\n",
            "Accuracy:74.17%, Std:0.09763326462737905, Param:{'C': 0.7, 'kernel': 'rbf'}\n",
            "Accuracy:74.17%, Std:0.09763326462737905, Param:{'C': 0.7, 'kernel': 'sigmoid'}\n",
            "Accuracy:62.12%, Std:0.12771388189628194, Param:{'C': 0.9, 'kernel': 'linear'}\n",
            "Accuracy:74.17%, Std:0.09763326462737905, Param:{'C': 0.9, 'kernel': 'poly'}\n",
            "Accuracy:74.17%, Std:0.09763326462737905, Param:{'C': 0.9, 'kernel': 'rbf'}\n",
            "Accuracy:74.17%, Std:0.09763326462737905, Param:{'C': 0.9, 'kernel': 'sigmoid'}\n",
            "Accuracy:62.12%, Std:0.12771388189628194, Param:{'C': 1.0, 'kernel': 'linear'}\n",
            "Accuracy:74.17%, Std:0.09763326462737905, Param:{'C': 1.0, 'kernel': 'poly'}\n",
            "Accuracy:74.17%, Std:0.09763326462737905, Param:{'C': 1.0, 'kernel': 'rbf'}\n",
            "Accuracy:74.17%, Std:0.09763326462737905, Param:{'C': 1.0, 'kernel': 'sigmoid'}\n",
            "Accuracy:62.12%, Std:0.12771388189628194, Param:{'C': 1.3, 'kernel': 'linear'}\n",
            "Accuracy:74.17%, Std:0.09763326462737905, Param:{'C': 1.3, 'kernel': 'poly'}\n",
            "Accuracy:74.17%, Std:0.09763326462737905, Param:{'C': 1.3, 'kernel': 'rbf'}\n",
            "Accuracy:74.17%, Std:0.09763326462737905, Param:{'C': 1.3, 'kernel': 'sigmoid'}\n",
            "Accuracy:62.12%, Std:0.12771388189628194, Param:{'C': 1.5, 'kernel': 'linear'}\n",
            "Accuracy:74.17%, Std:0.09763326462737905, Param:{'C': 1.5, 'kernel': 'poly'}\n",
            "Accuracy:74.17%, Std:0.09763326462737905, Param:{'C': 1.5, 'kernel': 'rbf'}\n",
            "Accuracy:74.17%, Std:0.09763326462737905, Param:{'C': 1.5, 'kernel': 'sigmoid'}\n",
            "Accuracy:62.12%, Std:0.12771388189628194, Param:{'C': 1.7, 'kernel': 'linear'}\n",
            "Accuracy:74.17%, Std:0.09763326462737905, Param:{'C': 1.7, 'kernel': 'poly'}\n",
            "Accuracy:74.17%, Std:0.09763326462737905, Param:{'C': 1.7, 'kernel': 'rbf'}\n",
            "Accuracy:74.24%, Std:0.0872364192150593, Param:{'C': 1.7, 'kernel': 'sigmoid'}\n",
            "Accuracy:62.12%, Std:0.12771388189628194, Param:{'C': 2.0, 'kernel': 'linear'}\n",
            "Accuracy:74.17%, Std:0.09763326462737905, Param:{'C': 2.0, 'kernel': 'poly'}\n",
            "Accuracy:74.17%, Std:0.09763326462737905, Param:{'C': 2.0, 'kernel': 'rbf'}\n",
            "Accuracy:73.33%, Std:0.10140201746516445, Param:{'C': 2.0, 'kernel': 'sigmoid'}\n"
          ]
        }
      ]
    },
    {
      "cell_type": "markdown",
      "source": [
        "###Tuning KNN"
      ],
      "metadata": {
        "id": "gkforp_dP8rj"
      }
    },
    {
      "cell_type": "code",
      "source": [
        "# Tune scaled KNN\n",
        "neighbors = [1,3,5,7,9,11,13,15,17,19,21,23,25]\n",
        "param_grid = dict(n_neighbors=neighbors)\n",
        "model = KNeighborsClassifier()\n",
        "kfold = KFold(n_splits=num_folds, shuffle=True, random_state=seed)\n",
        "grid = GridSearchCV(estimator=model, param_grid=param_grid, scoring=scoring, cv=kfold)\n",
        "grid_result = grid.fit(X_train, Y_train)\n",
        "print(f\"Best:{grid_result.best_score_*100:.2f}%, using  Param:{grid_result.best_params_}\")\n",
        "means = grid_result.cv_results_['mean_test_score']\n",
        "stds = grid_result.cv_results_['std_test_score']\n",
        "params = grid_result.cv_results_['params']\n",
        "for mean, stdev, param in zip(means, stds, params):\n",
        "  print(f\"Accuracy:{mean*100:.2f}%, Std:{stdev}, Param:{param}\")"
      ],
      "metadata": {
        "id": "1lTSrizL5KPY",
        "colab": {
          "base_uri": "https://localhost:8080/"
        },
        "outputId": "4756487a-26ff-4b12-aa97-dcf6605051cd"
      },
      "execution_count": 16,
      "outputs": [
        {
          "output_type": "stream",
          "name": "stdout",
          "text": [
            "Best:74.17%, using  Param:{'n_neighbors': 9}\n",
            "Accuracy:57.58%, Std:0.11558927953188275, Param:{'n_neighbors': 1}\n",
            "Accuracy:67.27%, Std:0.15948004357135304, Param:{'n_neighbors': 3}\n",
            "Accuracy:71.67%, Std:0.11892733001933582, Param:{'n_neighbors': 5}\n",
            "Accuracy:70.68%, Std:0.12318703630529587, Param:{'n_neighbors': 7}\n",
            "Accuracy:74.17%, Std:0.09763326462737905, Param:{'n_neighbors': 9}\n",
            "Accuracy:74.17%, Std:0.09763326462737905, Param:{'n_neighbors': 11}\n",
            "Accuracy:74.17%, Std:0.09763326462737905, Param:{'n_neighbors': 13}\n",
            "Accuracy:74.17%, Std:0.09763326462737905, Param:{'n_neighbors': 15}\n",
            "Accuracy:74.17%, Std:0.09763326462737905, Param:{'n_neighbors': 17}\n",
            "Accuracy:74.17%, Std:0.09763326462737905, Param:{'n_neighbors': 19}\n",
            "Accuracy:74.17%, Std:0.09763326462737905, Param:{'n_neighbors': 21}\n",
            "Accuracy:74.17%, Std:0.09763326462737905, Param:{'n_neighbors': 23}\n",
            "Accuracy:74.17%, Std:0.09763326462737905, Param:{'n_neighbors': 25}\n"
          ]
        }
      ]
    },
    {
      "cell_type": "markdown",
      "source": [
        "According to the results below, **SVM** appears to be the most appropriate classical machine learning algorithm to this problem. \n",
        "* **Tuned SVM accuracy: 74.24%**\n",
        "* **Tune KNN accuracy: 74.17%**\n"
      ],
      "metadata": {
        "id": "OIDlbPdvPa4K"
      }
    },
    {
      "cell_type": "markdown",
      "source": [
        "##Step 2: Ensemble Methods\n",
        "Another way that we can improve the performance of algorithms on this problem is by using ensemble methods. In this section we will evaluate five different ensemble machine learning algorithms, three boosting and two bagging methods:\n",
        "* **Boosting Methods:** AdaBoost (AB) and Gradient Boosting (GBM), XGBoost (XGB).\n",
        "\n",
        "* **Bagging Methods:** Random Forests (RF) and Extra Trees (ET)."
      ],
      "metadata": {
        "id": "JBAvMRpcD0ZP"
      }
    },
    {
      "cell_type": "code",
      "source": [
        "# ensembles\n",
        "ensembles = []\n",
        "ensembles.append(('AB', AdaBoostClassifier()))\n",
        "ensembles.append(('GBM', GradientBoostingClassifier()))\n",
        "ensembles.append(('RF', RandomForestClassifier()))\n",
        "ensembles.append(('ET', ExtraTreesClassifier()))\n",
        "ensembles.append(('XGB', XGBClassifier()))\n",
        "results = []\n",
        "names = []\n",
        "for name, model in ensembles:\n",
        "  kfold = KFold(n_splits=num_folds, shuffle=True, random_state=seed)\n",
        "  cv_results = cross_val_score(model, X_train, Y_train, cv=kfold, scoring=scoring)\n",
        "  results.append(cv_results)\n",
        "  names.append(name)\n",
        "  print(f\" name: {name} , Accuracy: {cv_results.mean()*100:.2f}%, Std: {cv_results.std()}\")"
      ],
      "metadata": {
        "id": "_4Fc2dlt5KMn",
        "colab": {
          "base_uri": "https://localhost:8080/"
        },
        "outputId": "26d7e736-072f-41ec-b44a-265af59d75f5"
      },
      "execution_count": 17,
      "outputs": [
        {
          "output_type": "stream",
          "name": "stdout",
          "text": [
            " name: AB , Accuracy: 70.61%, Std: 0.11607484681996852\n",
            " name: GBM , Accuracy: 72.35%, Std: 0.10666763515400551\n",
            " name: RF , Accuracy: 78.56%, Std: 0.09510819801499888\n",
            " name: ET , Accuracy: 75.00%, Std: 0.10016056897599036\n",
            " name: XGB , Accuracy: 77.65%, Std: 0.0959014310694861\n"
          ]
        }
      ]
    },
    {
      "cell_type": "code",
      "source": [
        "# Compare Algorithms\n",
        "fig = plt.figure()\n",
        "fig.suptitle('Ensemble Algorithm Comparison')\n",
        "ax = fig.add_subplot(111)\n",
        "plt.boxplot(results)\n",
        "ax.set_xticklabels(names)\n",
        "plt.show()"
      ],
      "metadata": {
        "colab": {
          "base_uri": "https://localhost:8080/",
          "height": 294
        },
        "id": "5ra_kWF9EIJx",
        "outputId": "a065aa38-063f-42e7-b050-95716a36538d"
      },
      "execution_count": 18,
      "outputs": [
        {
          "output_type": "display_data",
          "data": {
            "text/plain": [
              "<Figure size 432x288 with 1 Axes>"
            ],
            "image/png": "[encoded data removed]"
          },
          "metadata": {
            "needs_background": "light"
          }
        }
      ]
    },
    {
      "cell_type": "markdown",
      "source": [
        "Accordint to the above chart, it can be seen that the **XGB** and **Random Forest (RF)** have better performance than the other methods. Therefore, to select the best ensamble ML algorithm, the performance of both XGB and RF have been evaluated."
      ],
      "metadata": {
        "id": "X5PA-adRR1yY"
      }
    },
    {
      "cell_type": "markdown",
      "source": [
        "##Finalize sample Model\n",
        "###Random Forest"
      ],
      "metadata": {
        "id": "8WtbtIfPFnar"
      }
    },
    {
      "cell_type": "code",
      "source": [
        "#Random Forest\n",
        "# prepare the model\n",
        "model = RandomForestClassifier()\n",
        "model.fit(X_train, Y_train)\n",
        "\n",
        "# estimate accuracy on validation dataset\n",
        "predictions = model.predict(X_validation)\n",
        "print(accuracy_score(Y_validation, predictions))\n",
        "print(confusion_matrix(Y_validation, predictions))\n",
        "print(classification_report(Y_validation, predictions))"
      ],
      "metadata": {
        "colab": {
          "base_uri": "https://localhost:8080/"
        },
        "id": "LX9emGd7Fm7z",
        "outputId": "d3d83ebd-7a23-4101-ff27-10deebf2893c"
      },
      "execution_count": 19,
      "outputs": [
        {
          "output_type": "stream",
          "name": "stdout",
          "text": [
            "0.896551724137931\n",
            "[[ 0  2]\n",
            " [ 1 26]]\n",
            "              precision    recall  f1-score   support\n",
            "\n",
            "           0       0.00      0.00      0.00         2\n",
            "           1       0.93      0.96      0.95        27\n",
            "\n",
            "    accuracy                           0.90        29\n",
            "   macro avg       0.46      0.48      0.47        29\n",
            "weighted avg       0.86      0.90      0.88        29\n",
            "\n"
          ]
        }
      ]
    },
    {
      "cell_type": "code",
      "source": [
        "# XGBClassifier\n",
        "# prepare the model\n",
        "model = XGBClassifier()\n",
        "model.fit(X_train, Y_train)\n",
        "\n",
        "# estimate accuracy on validation dataset\n",
        "predictions = model.predict(X_validation)\n",
        "print(accuracy_score(Y_validation, predictions))\n",
        "print(confusion_matrix(Y_validation, predictions))\n",
        "print(classification_report(Y_validation, predictions))"
      ],
      "metadata": {
        "colab": {
          "base_uri": "https://localhost:8080/"
        },
        "id": "jd-BE_mrL0aY",
        "outputId": "7294557b-afb2-44f7-becd-daef0d14bf38"
      },
      "execution_count": 20,
      "outputs": [
        {
          "output_type": "stream",
          "name": "stdout",
          "text": [
            "0.9310344827586207\n",
            "[[ 1  1]\n",
            " [ 1 26]]\n",
            "              precision    recall  f1-score   support\n",
            "\n",
            "           0       0.50      0.50      0.50         2\n",
            "           1       0.96      0.96      0.96        27\n",
            "\n",
            "    accuracy                           0.93        29\n",
            "   macro avg       0.73      0.73      0.73        29\n",
            "weighted avg       0.93      0.93      0.93        29\n",
            "\n"
          ]
        }
      ]
    },
    {
      "cell_type": "markdown",
      "source": [
        "As can be seen the performance of **XGB** is better than **RF** as bellow: \n",
        "* **RF accuracy: 89.65%**\n",
        "* **XGB accuracy: 93.10%**"
      ],
      "metadata": {
        "id": "zzRUBpTuTZhh"
      }
    },
    {
      "cell_type": "markdown",
      "source": [
        "##Step 3: Comparing models from Step 1 and 2 \n",
        "The **XGBClassifier** has been selected as the best classical tree-based ensemble machine learning algorithm for this problem after evaluating the performance of the best algorithms from steps 1 and 2. \n",
        "* **Step 1-Best algorithm: SVM accuracy: 74.24%**\n",
        "* **Step 2-Best algorithm: XGB accuracy: 93.10%**\n"
      ],
      "metadata": {
        "id": "W9icHXfmTIln"
      }
    },
    {
      "cell_type": "markdown",
      "source": [
        "##Step 4: XGBClassifier: Whole dataset + tuning"
      ],
      "metadata": {
        "id": "guzDcgx3MIVq"
      }
    },
    {
      "cell_type": "markdown",
      "source": [
        "###Tuning the model to find the best parameters for our model"
      ],
      "metadata": {
        "id": "iE11NdwtH_QN"
      }
    },
    {
      "cell_type": "code",
      "source": [
        "# Load libraries\n",
        "from tdc import Evaluator\n",
        "import numpy as np\n",
        "import pandas as pd\n",
        "import matplotlib.pyplot as plt\n",
        "from pandas import set_option\n",
        "from pandas.plotting import scatter_matrix\n",
        "from sklearn.metrics import classification_report\n",
        "from sklearn.metrics import confusion_matrix\n",
        "from sklearn.metrics import accuracy_score\n",
        "from sklearn.ensemble import RandomForestClassifier\n",
        "from sklearn.model_selection import RandomizedSearchCV\n",
        "from sklearn.metrics import make_scorer, average_precision_score\n",
        "\n",
        "\n",
        "#use train dataset to evaluating different algorithms performances \n",
        "X_train = np.load('/content/drive/MyDrive/DeepMirror/PAMPA_NCATS_Dataset/PAMPA_NCATS_X_train.npy') #Depending on the directory, the address should be changed\n",
        "y_train = np.load('/content/drive/MyDrive/DeepMirror/PAMPA_NCATS_Dataset/PAMPA_NCATS_y_train.npy') #Depending on the directory, the address should be changed\n",
        "X_validation = np.load('/content/drive/MyDrive/DeepMirror/PAMPA_NCATS_Dataset/PAMPA_NCATS_X_valid.npy') #Depending on the directory, the address should be changed\n",
        "y_validation= np.load('/content/drive/MyDrive/DeepMirror/PAMPA_NCATS_Dataset/PAMPA_NCATS_y_valid.npy') #Depending on the directory, the address should be changed\n",
        "\n",
        "# X, y shapes\n",
        "print(f\"X_train shape: \", X_train.shape)\n",
        "print(f\"y_train shape: \", y_train.shape)\n",
        "print(f\"X_validation shape: \", X_validation.shape)\n",
        "print(f\"y_validation shape: \", y_validation.shape)\n",
        "print(\"=========================================================================\")\n",
        "\n",
        "# finetune with grid search\n",
        "params = {\n",
        "    \"n_estimators\": [50, 100, 200, 500, 1000],\n",
        "    \"max_depth\": [3, 4, 5, 6, 7],\n",
        "    \"learning_rate\": [0.01, 0.05, 0.1, 0.2, 0.3],\n",
        "    \"subsample\": [0.5, 0.6, 0.7, 0.8, 0.9, 1.0],\n",
        "    \"colsample_bytree\": [0.5, 0.6, 0.7, 0.8, 0.9, 1.0],\n",
        "    \"reg_alpha\": [0, 0.1, 1, 5, 10],\n",
        "    \"reg_lambda\": [0, 0.1, 1, 5, 10],\n",
        "    \"min_child_weight\": [1, 3, 5]\n",
        "}\n",
        "\n",
        "#model\n",
        "xgb = XGBClassifier(tree_method='gpu_hist')\n",
        "clf = RandomizedSearchCV(\n",
        "    estimator=xgb, param_distributions=params,\n",
        "    scoring='roc_auc', n_iter=100\n",
        ")\n",
        "clf.fit(X_train, y_train)\n",
        "\n",
        "# print best parameters\n",
        "best_params = clf.best_params_\n",
        "print(best_params)"
      ],
      "metadata": {
        "colab": {
          "base_uri": "https://localhost:8080/"
        },
        "id": "fMp2GgMAIMZZ",
        "outputId": "414405aa-8aa8-45b1-d054-12208e348865"
      },
      "execution_count": 21,
      "outputs": [
        {
          "output_type": "stream",
          "name": "stdout",
          "text": [
            "X_train shape:  (1424, 3304)\n",
            "y_train shape:  (1424,)\n",
            "X_validation shape:  (203, 3304)\n",
            "y_validation shape:  (203,)\n",
            "=========================================================================\n",
            "{'subsample': 0.8, 'reg_lambda': 5, 'reg_alpha': 0, 'n_estimators': 200, 'min_child_weight': 5, 'max_depth': 7, 'learning_rate': 0.01, 'colsample_bytree': 0.7}\n"
          ]
        }
      ]
    },
    {
      "cell_type": "markdown",
      "source": [
        "###Model the problem using the best params"
      ],
      "metadata": {
        "id": "XWDgCI1BYUTM"
      }
    },
    {
      "cell_type": "code",
      "source": [
        "# XGBoost Classifier\n",
        "from tdc import Evaluator\n",
        "import numpy as np\n",
        "import pandas as pd\n",
        "import xgboost\n",
        "from xgboost import XGBClassifier\n",
        "from sklearn.model_selection import KFold\n",
        "from sklearn.model_selection import cross_val_score\n",
        "import matplotlib.pyplot as plt\n",
        "from pandas import set_option\n",
        "from pandas.plotting import scatter_matrix\n",
        "from sklearn.metrics import classification_report\n",
        "from sklearn.metrics import confusion_matrix\n",
        "from sklearn.metrics import accuracy_score\n",
        "\n",
        "#use train dataset to evaluating different algorithms performances\n",
        "X_train = np.load('/content/drive/MyDrive/DeepMirror/PAMPA_NCATS_Dataset/PAMPA_NCATS_X_train.npy') \n",
        "y_train = np.load('/content/drive/MyDrive/DeepMirror/PAMPA_NCATS_Dataset/PAMPA_NCATS_y_train.npy')\n",
        "X_validation = np.load('/content/drive/MyDrive/DeepMirror/PAMPA_NCATS_Dataset/PAMPA_NCATS_X_valid.npy') \n",
        "y_validation= np.load('/content/drive/MyDrive/DeepMirror/PAMPA_NCATS_Dataset/PAMPA_NCATS_y_valid.npy')\n",
        "\n",
        "\n",
        "# XGBClassifier\n",
        "# prepare the model\n",
        "model = XGBClassifier(tree_method='gpu_hist', best_params=best_params, random_state=seed)\n",
        "model.fit(X_train, y_train)\n",
        "\n",
        "# estimate accuracy on validation dataset\n",
        "predictions = model.predict(X_validation)\n",
        "print(f\"Accuracy_score: {(accuracy_score(y_validation, predictions))*100:.2f}%\")\n",
        "print(\"============================================================\")\n",
        "\n",
        "evaluator = Evaluator(name = 'F1')\n",
        "f1_score = evaluator(y_validation, predictions)\n",
        "print(f\"F1_score: {f1_score*100:.2f}%\")\n",
        "print(\"============================================================\")\n",
        "\n",
        "evaluator = Evaluator(name = 'ROC-AUC')\n",
        "roc_auc_score = evaluator(y_validation, predictions)\n",
        "print(f\"ROC-AUC: {roc_auc_score:.2f}\")\n",
        "print(\"============================================================\")\n",
        "\n",
        "evaluator = Evaluator(name = 'PR-AUC')\n",
        "pr_auc_score = evaluator(y_validation, predictions)\n",
        "print(f\"PR-AUC: {pr_auc_score:.2f}\")\n",
        "print(\"============================================================\")\n",
        "\n",
        "print(\"Confusion matrix:\\n\", confusion_matrix(y_validation, predictions))\n",
        "print(\"============================================================\")\n",
        "\n",
        "print(\"Classification Report:\\n\", classification_report(y_validation, predictions))\n",
        "print(\"============================================================\")\n",
        "\n",
        "# feature importance by fingerprints and descriptors\n",
        "# ending 0 is added as placeholder\n",
        "feature_imp_list = [model.feature_importances_]\n",
        "feature_imp = []\n",
        "feature_size = [167, 2048, 208, 881] #extracted from https://deepchem.readthedocs.io, based on the corresponding Featurizers lengths. \n",
        "\n",
        "for feature in feature_imp_list:\n",
        "    feature_imp_cur = []\n",
        "    running_size = 0\n",
        "    for size in feature_size:\n",
        "        feature_imp_cur.append(\n",
        "            np.sum(feature[running_size: running_size + size])\n",
        "        )\n",
        "        running_size += size\n",
        "    feature_imp.append(feature_imp_cur)\n",
        "\n",
        "feature_imp_mean = np.mean(feature_imp, axis=0)\n",
        "\n",
        "print(\n",
        "    \"Feature Importance:\\n\",\n",
        "    f\"maccskeys: {feature_imp_mean[0]*100:.2f}% \",\n",
        "    f\"circular: {feature_imp_mean[1]*100:.2f}% \",\n",
        "    f\"rdkit: {feature_imp_mean[2]*100:.2f}%\",\n",
        "    f\"pubchem: {feature_imp_mean[3]*100:.2f}%\"\n",
        ")"
      ],
      "metadata": {
        "colab": {
          "base_uri": "https://localhost:8080/"
        },
        "id": "vrs0yE8Tv2sr",
        "outputId": "89e549ea-1853-4067-e73d-a8128912614a"
      },
      "execution_count": 22,
      "outputs": [
        {
          "output_type": "stream",
          "name": "stdout",
          "text": [
            "Accuracy_score: 85.71%\n",
            "============================================================\n",
            "F1_score: 92.10%\n",
            "============================================================\n",
            "ROC-AUC: 0.57\n",
            "============================================================\n",
            "PR-AUC: 0.86\n",
            "============================================================\n",
            "Confusion matrix:\n",
            " [[  5  28]\n",
            " [  1 169]]\n",
            "============================================================\n",
            "Classification Report:\n",
            "               precision    recall  f1-score   support\n",
            "\n",
            "           0       0.83      0.15      0.26        33\n",
            "           1       0.86      0.99      0.92       170\n",
            "\n",
            "    accuracy                           0.86       203\n",
            "   macro avg       0.85      0.57      0.59       203\n",
            "weighted avg       0.85      0.86      0.81       203\n",
            "\n",
            "============================================================\n",
            "Feature Importance:\n",
            " maccskeys: 6.89%  circular: 24.42%  rdkit: 54.12% pubchem: 14.57%\n"
          ]
        }
      ]
    },
    {
      "cell_type": "markdown",
      "source": [
        "Extracting results"
      ],
      "metadata": {
        "id": "XgoqUNz-lA03"
      }
    },
    {
      "cell_type": "code",
      "source": [
        "XGBClassifier_results = {\n",
        "    \"F1_score\": f1_score,\n",
        "    \"ROC-AUC\" : roc_auc_score,\n",
        "    \"PR-AUC\" : pr_auc_score\n",
        "}\n",
        "\n",
        "XGBClassifier_results"
      ],
      "metadata": {
        "colab": {
          "base_uri": "https://localhost:8080/"
        },
        "id": "-0CpjNdUlDcX",
        "outputId": "cc531c57-5457-40c2-a552-62274d5fc163"
      },
      "execution_count": 23,
      "outputs": [
        {
          "output_type": "execute_result",
          "data": {
            "text/plain": [
              "{'F1_score': 0.9209809264305178,\n",
              " 'ROC-AUC': 0.5728163992869875,\n",
              " 'PR-AUC': 0.857747846206573}"
            ]
          },
          "metadata": {},
          "execution_count": 23
        }
      ]
    },
    {
      "cell_type": "markdown",
      "source": [
        "Save the best model"
      ],
      "metadata": {
        "id": "6RajMpXwnK13"
      }
    },
    {
      "cell_type": "code",
      "source": [
        "model.save_model('/content/' + 'PAMPA_NCATS' + '_model')"
      ],
      "metadata": {
        "id": "QOBad3EEnNqW"
      },
      "execution_count": 24,
      "outputs": []
    }
  ],
  "metadata": {
    "accelerator": "GPU",
    "colab": {
      "provenance": []
    },
    "gpuClass": "standard",
    "kernelspec": {
      "display_name": "Python 3",
      "name": "python3"
    },
    "language_info": {
      "name": "python"
    }
  },
  "nbformat": 4,
  "nbformat_minor": 0
}